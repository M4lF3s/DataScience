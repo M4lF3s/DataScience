{
 "cells": [
  {
   "cell_type": "code",
   "execution_count": 1,
   "metadata": {
    "collapsed": true,
    "pycharm": {
     "is_executing": false
    }
   },
   "outputs": [],
   "source": [
    "import numpy as np\n",
    "\n",
    "x_train = np.load('x_train.npy')\n",
    "y_train = np.load('y_train.npy')\n",
    "x_test = np.load('x_test.npy')\n",
    "y_test = np.load('y_test.npy')"
   ]
  },
  {
   "cell_type": "markdown",
   "source": [
    "A neuron is a singular unit in a neural network. It calculates an output value based on the weights and the activation function."
   ],
   "metadata": {
    "collapsed": false,
    "pycharm": {
     "name": "#%% md\n"
    }
   }
  },
  {
   "cell_type": "markdown",
   "source": [
    "A layer is a group of neurons that get the same input values and calculate output values based on the same algorithm (but with varying weights)"
   ],
   "metadata": {
    "collapsed": false,
    "pycharm": {
     "name": "#%% md\n"
    }
   }
  },
  {
   "cell_type": "code",
   "execution_count": 9,
   "outputs": [
    {
     "name": "stdout",
     "text": [
      "(576, 8)\n(576,)\nfloat64\nfloat32\n"
     ],
     "output_type": "stream"
    }
   ],
   "source": [
    "print(x_train.shape)\n",
    "print(y_train.shape)\n",
    "print(x_train.dtype)\n",
    "print(y_train.dtype)"
   ],
   "metadata": {
    "collapsed": false,
    "pycharm": {
     "name": "#%%\n",
     "is_executing": false
    }
   }
  },
  {
   "cell_type": "code",
   "execution_count": 10,
   "outputs": [],
   "source": [
    "from tensorflow.keras import models\n",
    "from tensorflow.keras import layers\n",
    "\n",
    "network = models.Sequential()\n",
    "network.add(layers.Dense(512, activation='relu', input_shape=(8,)))\n",
    "network.add(layers.Dense(2, activation='softmax'))\n",
    "\n",
    "network.compile(optimizer='rmsprop', loss='categorical_crossentropy',\n",
    "                metrics=['accuracy'])\n"
   ],
   "metadata": {
    "collapsed": false,
    "pycharm": {
     "name": "#%%\n",
     "is_executing": false
    }
   }
  },
  {
   "cell_type": "code",
   "execution_count": 12,
   "outputs": [],
   "source": [
    "from tensorflow.keras.utils import to_categorical\n",
    "train_labels = to_categorical(y_train)\n",
    "test_labels = to_categorical(y_test)"
   ],
   "metadata": {
    "collapsed": false,
    "pycharm": {
     "name": "#%%\n",
     "is_executing": false
    }
   }
  },
  {
   "cell_type": "code",
   "execution_count": 17,
   "outputs": [
    {
     "name": "stdout",
     "text": [
      "Train on 576 samples\nEpoch 1/5\n\r128/576 [=====>........................] - ETA: 0s - loss: 0.5046 - accuracy: 0.7656",
      "\b\b\b\b\b\b\b\b\b\b\b\b\b\b\b\b\b\b\b\b\b\b\b\b\b\b\b\b\b\b\b\b\b\b\b\b\b\b\b\b\b\b\b\b\b\b\b\b\b\b\b\b\b\b\b\b\b\b\b\b\b\b\b\b\b\b\b\b\b\b\b\b\b\b\b\b\b\b\b\b\b\b\b\b\r576/576 [==============================] - 0s 123us/sample - loss: 0.4689 - accuracy: 0.7726\n",
      "Epoch 2/5\n\r128/576 [=====>........................] - ETA: 0s - loss: 0.4120 - accuracy: 0.8203",
      "\b\b\b\b\b\b\b\b\b\b\b\b\b\b\b\b\b\b\b\b\b\b\b\b\b\b\b\b\b\b\b\b\b\b\b\b\b\b\b\b\b\b\b\b\b\b\b\b\b\b\b\b\b\b\b\b\b\b\b\b\b\b\b\b\b\b\b\b\b\b\b\b\b\b\b\b\b\b\b\b\b\b\b\b\r576/576 [==============================] - 0s 105us/sample - loss: 0.4619 - accuracy: 0.7760\n",
      "Epoch 3/5\n\r128/576 [=====>........................] - ETA: 0s - loss: 0.4840 - accuracy: 0.7500",
      "\b\b\b\b\b\b\b\b\b\b\b\b\b\b\b\b\b\b\b\b\b\b\b\b\b\b\b\b\b\b\b\b\b\b\b\b\b\b\b\b\b\b\b\b\b\b\b\b\b\b\b\b\b\b\b\b\b\b\b\b\b\b\b\b\b\b\b\b\b\b\b\b\b\b\b\b\b\b\b\b\b\b\b\b\r576/576 [==============================] - 0s 59us/sample - loss: 0.4566 - accuracy: 0.7778\n",
      "Epoch 4/5",
      "\n\r128/576 [=====>........................] - ETA: 0s - loss: 0.4602 - accuracy: 0.7500",
      "\b\b\b\b\b\b\b\b\b\b\b\b\b\b\b\b\b\b\b\b\b\b\b\b\b\b\b\b\b\b\b\b\b\b\b\b\b\b\b\b\b\b\b\b\b\b\b\b\b\b\b\b\b\b\b\b\b\b\b\b\b\b\b\b\b\b\b\b\b\b\b\b\b\b\b\b\b\b\b\b\b\b\b\b\r576/576 [==============================] - 0s 52us/sample - loss: 0.4556 - accuracy: 0.7830\n",
      "Epoch 5/5\n\r128/576 [=====>........................] - ETA: 0s - loss: 0.3801 - accuracy: 0.8438",
      "\b\b\b\b\b\b\b\b\b\b\b\b\b\b\b\b\b\b\b\b\b\b\b\b\b\b\b\b\b\b\b\b\b\b\b\b\b\b\b\b\b\b\b\b\b\b\b\b\b\b\b\b\b\b\b\b\b\b\b\b\b\b\b\b\b\b\b\b\b\b\b\b\b\b\b\b\b\b\b\b\b\b\b\b\r576/576 [==============================] - 0s 44us/sample - loss: 0.4526 - accuracy: 0.7760\n",
      "\r192/1 [================================================================================================================================================================================================================================================================================================================================================================================================================================================================================================================================================================================================================================================================================================================================================================================================================================================================================================================================================================================================================================================================================================================================================================================================================================================================================================================================================================================================================================================================================================================================================================================================================================================================================================================================================================================================================================================================================================================================================================================================================================================================================================================================================================================================================================================================================================================================================================================================================================================================================================================================================================================================================================================================================================================================================================================================================================================================================================================================================================================================================================================================================================================================================================================================================================================================================================================================================================================================================================================================================================================================================================================================================================================================================================================================================================================================================================================================================================================================================================================================================================================================================================================================================================================================================================================================================================================================================================================================================================================================================================================================================================================================================================================================================================================================================================================================================================================================================================================================================================================================================================================================================================================================================================================================================================================================================================================================================================================================================================================================================================================================================================================================================================================================================================================================================================================================================================================================================================================================================================================================] - 0s 62us/sample - loss: 0.4783 - accuracy: 0.8021\n"
     ],
     "output_type": "stream"
    }
   ],
   "source": [
    "network.fit(x_train, train_labels, epochs = 5, batch_size=128)\n",
    "test_loss, test_acc = network.evaluate(x_test, test_labels)\n",
    "\n",
    "predictions = network.predict(x_test)"
   ],
   "metadata": {
    "collapsed": false,
    "pycharm": {
     "name": "#%%\n",
     "is_executing": false
    }
   }
  },
  {
   "cell_type": "code",
   "execution_count": 18,
   "outputs": [
    {
     "data": {
      "text/plain": "0.8020833"
     },
     "metadata": {},
     "output_type": "execute_result",
     "execution_count": 18
    }
   ],
   "source": [
    "test_acc"
   ],
   "metadata": {
    "collapsed": false,
    "pycharm": {
     "name": "#%%\n",
     "is_executing": false
    }
   }
  },
  {
   "cell_type": "code",
   "execution_count": 21,
   "outputs": [
    {
     "name": "stdout",
     "text": [
      "[[119  11]\n [ 27  35]]\n"
     ],
     "output_type": "stream"
    }
   ],
   "source": [
    "from sklearn.metrics import confusion_matrix\n",
    "import numpy as np\n",
    "\n",
    "confusion = confusion_matrix(np.argmax(test_labels,axis=1), np.argmax(predictions,axis=1))\n",
    "print(confusion)"
   ],
   "metadata": {
    "collapsed": false,
    "pycharm": {
     "name": "#%%\n",
     "is_executing": false
    }
   }
  },
  {
   "cell_type": "code",
   "execution_count": 182,
   "outputs": [],
   "source": [
    "network2 = models.Sequential()\n",
    "network2.add(layers.Dense(12, activation='relu', input_shape=(8,)))\n",
    "\n",
    "network2.add(layers.Dense(9, activation='relu', input_shape=(8,)))\n",
    "network2.add(layers.Dense(9, activation='relu', input_shape=(8,)))\n",
    "\n",
    "network2.add(layers.Dense(2, activation='softmax'))\n",
    "\n",
    "network2.compile(optimizer='rmsprop', loss='binary_crossentropy',\n",
    "                metrics=['accuracy'])"
   ],
   "metadata": {
    "collapsed": false,
    "pycharm": {
     "name": "#%%\n",
     "is_executing": false
    }
   }
  },
  {
   "cell_type": "code",
   "execution_count": 183,
   "outputs": [
    {
     "name": "stdout",
     "text": [
      "Train on 576 samples\nEpoch 1/50\n",
      "\r128/576 [=====>........................] - ETA: 5s - loss: 0.7248 - accuracy: 0.4297",
      "\b\b\b\b\b\b\b\b\b\b\b\b\b\b\b\b\b\b\b\b\b\b\b\b\b\b\b\b\b\b\b\b\b\b\b\b\b\b\b\b\b\b\b\b\b\b\b\b\b\b\b\b\b\b\b\b\b\b\b\b\b\b\b\b\b\b\b\b\b\b\b\b\b\b\b\b\b\b\b\b\b\b\b\b\r576/576 [==============================] - 2s 3ms/sample - loss: 0.7017 - accuracy: 0.5156\n",
      "Epoch 2/50\n\r128/576 [=====>........................] - ETA: 0s - loss: 0.6696 - accuracy: 0.5859",
      "\b\b\b\b\b\b\b\b\b\b\b\b\b\b\b\b\b\b\b\b\b\b\b\b\b\b\b\b\b\b\b\b\b\b\b\b\b\b\b\b\b\b\b\b\b\b\b\b\b\b\b\b\b\b\b\b\b\b\b\b\b\b\b\b\b\b\b\b\b\b\b\b\b\b\b\b\b\b\b\b\b\b\b\b\r576/576 [==============================] - 0s 53us/sample - loss: 0.6724 - accuracy: 0.5868\n",
      "Epoch 3/50\n\r128/576 [=====>........................] - ETA: 0s - loss: 0.6647 - accuracy: 0.5938",
      "\b\b\b\b\b\b\b\b\b\b\b\b\b\b\b\b\b\b\b\b\b\b\b\b\b\b\b\b\b\b\b\b\b\b\b\b\b\b\b\b\b\b\b\b\b\b\b\b\b\b\b\b\b\b\b\b\b\b\b\b\b\b\b\b\b\b\b\b\b\b\b\b\b\b\b\b\b\b\b\b\b\b\b\b\r576/576 [==============================] - 0s 40us/sample - loss: 0.6531 - accuracy: 0.6493\n",
      "Epoch 4/50\n\r128/576 [=====>........................] - ETA: 0s - loss: 0.6315 - accuracy: 0.7109",
      "\b\b\b\b\b\b\b\b\b\b\b\b\b\b\b\b\b\b\b\b\b\b\b\b\b\b\b\b\b\b\b\b\b\b\b\b\b\b\b\b\b\b\b\b\b\b\b\b\b\b\b\b\b\b\b\b\b\b\b\b\b\b\b\b\b\b\b\b\b\b\b\b\b\b\b\b\b\b\b\b\b\b\b\b\r576/576 [==============================] - 0s 33us/sample - loss: 0.6377 - accuracy: 0.6788\n",
      "Epoch 5/50\n\r128/576 [=====>........................] - ETA: 0s - loss: 0.6431 - accuracy: 0.6875",
      "\b\b\b\b\b\b\b\b\b\b\b\b\b\b\b\b\b\b\b\b\b\b\b\b\b\b\b\b\b\b\b\b\b\b\b\b\b\b\b\b\b\b\b\b\b\b\b\b\b\b\b\b\b\b\b\b\b\b\b\b\b\b\b\b\b\b\b\b\b\b\b\b\b\b\b\b\b\b\b\b\b\b\b\b\r576/576 [==============================] - 0s 33us/sample - loss: 0.6239 - accuracy: 0.7049\n",
      "Epoch 6/50\n\r128/576 [=====>........................] - ETA: 0s - loss: 0.6323 - accuracy: 0.6797",
      "\b\b\b\b\b\b\b\b\b\b\b\b\b\b\b\b\b\b\b\b\b\b\b\b\b\b\b\b\b\b\b\b\b\b\b\b\b\b\b\b\b\b\b\b\b\b\b\b\b\b\b\b\b\b\b\b\b\b\b\b\b\b\b\b\b\b\b\b\b\b\b\b\b\b\b\b\b\b\b\b\b\b\b\b\r576/576 [==============================] - 0s 32us/sample - loss: 0.6120 - accuracy: 0.7135\n",
      "Epoch 7/50\n\r128/576 [=====>........................] - ETA: 0s - loss: 0.6069 - accuracy: 0.7344",
      "\b\b\b\b\b\b\b\b\b\b\b\b\b\b\b\b\b\b\b\b\b\b\b\b\b\b\b\b\b\b\b\b\b\b\b\b\b\b\b\b\b\b\b\b\b\b\b\b\b\b\b\b\b\b\b\b\b\b\b\b\b\b\b\b\b\b\b\b\b\b\b\b\b\b\b\b\b\b\b\b\b\b\b\b\r576/576 [==============================] - 0s 60us/sample - loss: 0.6017 - accuracy: 0.7153\n",
      "Epoch 8/50\n\r128/576 [=====>........................] - ETA: 0s - loss: 0.5942 - accuracy: 0.7109",
      "\b\b\b\b\b\b\b\b\b\b\b\b\b\b\b\b\b\b\b\b\b\b\b\b\b\b\b\b\b\b\b\b\b\b\b\b\b\b\b\b\b\b\b\b\b\b\b\b\b\b\b\b\b\b\b\b\b\b\b\b\b\b\b\b\b\b\b\b\b\b\b\b\b\b\b\b\b\b\b\b\b\b\b\b",
      "\r576/576 [==============================] - 0s 48us/sample - loss: 0.5915 - accuracy: 0.7188\n",
      "Epoch 9/50\n\r128/576 [=====>........................] - ETA: 0s - loss: 0.5786 - accuracy: 0.7422",
      "\b\b\b\b\b\b\b\b\b\b\b\b\b\b\b\b\b\b\b\b\b\b\b\b\b\b\b\b\b\b\b\b\b\b\b\b\b\b\b\b\b\b\b\b\b\b\b\b\b\b\b\b\b\b\b\b\b\b\b\b\b\b\b\b\b\b\b\b\b\b\b\b\b\b\b\b\b\b\b\b\b\b\b\b",
      "\r576/576 [==============================] - 0s 58us/sample - loss: 0.5821 - accuracy: 0.7257\n",
      "Epoch 10/50\n\r128/576 [=====>........................] - ETA: 0s - loss: 0.5753 - accuracy: 0.7500",
      "\b\b\b\b\b\b\b\b\b\b\b\b\b\b\b\b\b\b\b\b\b\b\b\b\b\b\b\b\b\b\b\b\b\b\b\b\b\b\b\b\b\b\b\b\b\b\b\b\b\b\b\b\b\b\b\b\b\b\b\b\b\b\b\b\b\b\b\b\b\b\b\b\b\b\b\b\b\b\b\b\b\b\b\b\r576/576 [==============================] - 0s 68us/sample - loss: 0.5732 - accuracy: 0.7326\n",
      "Epoch 11/50\n",
      "\r128/576 [=====>........................] - ETA: 0s - loss: 0.5593 - accuracy: 0.7656",
      "\b\b\b\b\b\b\b\b\b\b\b\b\b\b\b\b\b\b\b\b\b\b\b\b\b\b\b\b\b\b\b\b\b\b\b\b\b\b\b\b\b\b\b\b\b\b\b\b\b\b\b\b\b\b\b\b\b\b\b\b\b\b\b\b\b\b\b\b\b\b\b\b\b\b\b\b\b\b\b\b\b\b\b\b",
      "\r576/576 [==============================] - 0s 63us/sample - loss: 0.5645 - accuracy: 0.7326\n",
      "Epoch 12/50\n\r128/576 [=====>........................] - ETA: 0s - loss: 0.5636 - accuracy: 0.7734",
      "\b\b\b\b\b\b\b\b\b\b\b\b\b\b\b\b\b\b\b\b\b\b\b\b\b\b\b\b\b\b\b\b\b\b\b\b\b\b\b\b\b\b\b\b\b\b\b\b\b\b\b\b\b\b\b\b\b\b\b\b\b\b\b\b\b\b\b\b\b\b\b\b\b\b\b\b\b\b\b\b\b\b\b\b",
      "\r576/576 [==============================] - 0s 59us/sample - loss: 0.5560 - accuracy: 0.7378\n",
      "Epoch 13/50\n\r128/576 [=====>........................] - ETA: 0s - loss: 0.5478 - accuracy: 0.7188",
      "\b\b\b\b\b\b\b\b\b\b\b\b\b\b\b\b\b\b\b\b\b\b\b\b\b\b\b\b\b\b\b\b\b\b\b\b\b\b\b\b\b\b\b\b\b\b\b\b\b\b\b\b\b\b\b\b\b\b\b\b\b\b\b\b\b\b\b\b\b\b\b\b\b\b\b\b\b\b\b\b\b\b\b\b",
      "\r576/576 [==============================] - 0s 54us/sample - loss: 0.5480 - accuracy: 0.7378\n",
      "Epoch 14/50\n\r128/576 [=====>........................] - ETA: 0s - loss: 0.5965 - accuracy: 0.6875",
      "\b\b\b\b\b\b\b\b\b\b\b\b\b\b\b\b\b\b\b\b\b\b\b\b\b\b\b\b\b\b\b\b\b\b\b\b\b\b\b\b\b\b\b\b\b\b\b\b\b\b\b\b\b\b\b\b\b\b\b\b\b\b\b\b\b\b\b\b\b\b\b\b\b\b\b\b\b\b\b\b\b\b\b\b",
      "\r576/576 [==============================] - 0s 51us/sample - loss: 0.5409 - accuracy: 0.7465\n",
      "Epoch 15/50\n\r128/576 [=====>........................] - ETA: 0s - loss: 0.5199 - accuracy: 0.7969",
      "\b\b\b\b\b\b\b\b\b\b\b\b\b\b\b\b\b\b\b\b\b\b\b\b\b\b\b\b\b\b\b\b\b\b\b\b\b\b\b\b\b\b\b\b\b\b\b\b\b\b\b\b\b\b\b\b\b\b\b\b\b\b\b\b\b\b\b\b\b\b\b\b\b\b\b\b\b\b\b\b\b\b\b\b\r576/576 [==============================] - 0s 58us/sample - loss: 0.5339 - accuracy: 0.7517\n",
      "Epoch 16/50\n\r128/576 [=====>........................] - ETA: 0s - loss: 0.5571 - accuracy: 0.7344",
      "\b\b\b\b\b\b\b\b\b\b\b\b\b\b\b\b\b\b\b\b\b\b\b\b\b\b\b\b\b\b\b\b\b\b\b\b\b\b\b\b\b\b\b\b\b\b\b\b\b\b\b\b\b\b\b\b\b\b\b\b\b\b\b\b\b\b\b\b\b\b\b\b\b\b\b\b\b\b\b\b\b\b\b\b",
      "\r576/576 [==============================] - 0s 58us/sample - loss: 0.5279 - accuracy: 0.7552\n",
      "Epoch 17/50\n",
      "\r128/576 [=====>........................] - ETA: 0s - loss: 0.5589 - accuracy: 0.7422",
      "\b\b\b\b\b\b\b\b\b\b\b\b\b\b\b\b\b\b\b\b\b\b\b\b\b\b\b\b\b\b\b\b\b\b\b\b\b\b\b\b\b\b\b\b\b\b\b\b\b\b\b\b\b\b\b\b\b\b\b\b\b\b\b\b\b\b\b\b\b\b\b\b\b\b\b\b\b\b\b\b\b\b\b\b",
      "\r576/576 [==============================] - 0s 57us/sample - loss: 0.5222 - accuracy: 0.7656\n",
      "Epoch 18/50\n\r128/576 [=====>........................] - ETA: 0s - loss: 0.5626 - accuracy: 0.7344",
      "\b\b\b\b\b\b\b\b\b\b\b\b\b\b\b\b\b\b\b\b\b\b\b\b\b\b\b\b\b\b\b\b\b\b\b\b\b\b\b\b\b\b\b\b\b\b\b\b\b\b\b\b\b\b\b\b\b\b\b\b\b\b\b\b\b\b\b\b\b\b\b\b\b\b\b\b\b\b\b\b\b\b\b\b",
      "\r576/576 [==============================] - 0s 46us/sample - loss: 0.5164 - accuracy: 0.7622\n",
      "Epoch 19/50\n",
      "\r128/576 [=====>........................] - ETA: 0s - loss: 0.5312 - accuracy: 0.7500",
      "\b\b\b\b\b\b\b\b\b\b\b\b\b\b\b\b\b\b\b\b\b\b\b\b\b\b\b\b\b\b\b\b\b\b\b\b\b\b\b\b\b\b\b\b\b\b\b\b\b\b\b\b\b\b\b\b\b\b\b\b\b\b\b\b\b\b\b\b\b\b\b\b\b\b\b\b\b\b\b\b\b\b\b\b",
      "\r576/576 [==============================] - 0s 128us/sample - loss: 0.5118 - accuracy: 0.7656\n",
      "Epoch 20/50\n\r128/576 [=====>........................] - ETA: 0s - loss: 0.5221 - accuracy: 0.7500",
      "\b\b\b\b\b\b\b\b\b\b\b\b\b\b\b\b\b\b\b\b\b\b\b\b\b\b\b\b\b\b\b\b\b\b\b\b\b\b\b\b\b\b\b\b\b\b\b\b\b\b\b\b\b\b\b\b\b\b\b\b\b\b\b\b\b\b\b\b\b\b\b\b\b\b\b\b\b\b\b\b\b\b\b\b\r576/576 [==============================] - 0s 28us/sample - loss: 0.5072 - accuracy: 0.7656\n",
      "Epoch 21/50\n\r128/576 [=====>........................] - ETA: 0s - loss: 0.5049 - accuracy: 0.7734",
      "\b\b\b\b\b\b\b\b\b\b\b\b\b\b\b\b\b\b\b\b\b\b\b\b\b\b\b\b\b\b\b\b\b\b\b\b\b\b\b\b\b\b\b\b\b\b\b\b\b\b\b\b\b\b\b\b\b\b\b\b\b\b\b\b\b\b\b\b\b\b\b\b\b\b\b\b\b\b\b\b\b\b\b\b",
      "\r576/576 [==============================] - 0s 35us/sample - loss: 0.5030 - accuracy: 0.7708\n",
      "Epoch 22/50\n\r128/576 [=====>........................] - ETA: 0s - loss: 0.5079 - accuracy: 0.7734",
      "\b\b\b\b\b\b\b\b\b\b\b\b\b\b\b\b\b\b\b\b\b\b\b\b\b\b\b\b\b\b\b\b\b\b\b\b\b\b\b\b\b\b\b\b\b\b\b\b\b\b\b\b\b\b\b\b\b\b\b\b\b\b\b\b\b\b\b\b\b\b\b\b\b\b\b\b\b\b\b\b\b\b\b\b\r576/576 [==============================] - 0s 34us/sample - loss: 0.4996 - accuracy: 0.7760\n",
      "Epoch 23/50\n",
      "\r128/576 [=====>........................] - ETA: 0s - loss: 0.5071 - accuracy: 0.7422",
      "\b\b\b\b\b\b\b\b\b\b\b\b\b\b\b\b\b\b\b\b\b\b\b\b\b\b\b\b\b\b\b\b\b\b\b\b\b\b\b\b\b\b\b\b\b\b\b\b\b\b\b\b\b\b\b\b\b\b\b\b\b\b\b\b\b\b\b\b\b\b\b\b\b\b\b\b\b\b\b\b\b\b\b\b\r576/576 [==============================] - 0s 36us/sample - loss: 0.4965 - accuracy: 0.7674\n",
      "Epoch 24/50\n\r128/576 [=====>........................] - ETA: 0s - loss: 0.4653 - accuracy: 0.7891",
      "\b\b\b\b\b\b\b\b\b\b\b\b\b\b\b\b\b\b\b\b\b\b\b\b\b\b\b\b\b\b\b\b\b\b\b\b\b\b\b\b\b\b\b\b\b\b\b\b\b\b\b\b\b\b\b\b\b\b\b\b\b\b\b\b\b\b\b\b\b\b\b\b\b\b\b\b\b\b\b\b\b\b\b\b",
      "\r576/576 [==============================] - 0s 40us/sample - loss: 0.4933 - accuracy: 0.7760\n",
      "Epoch 25/50\n\r128/576 [=====>........................] - ETA: 0s - loss: 0.4116 - accuracy: 0.8438",
      "\b\b\b\b\b\b\b\b\b\b\b\b\b\b\b\b\b\b\b\b\b\b\b\b\b\b\b\b\b\b\b\b\b\b\b\b\b\b\b\b\b\b\b\b\b\b\b\b\b\b\b\b\b\b\b\b\b\b\b\b\b\b\b\b\b\b\b\b\b\b\b\b\b\b\b\b\b\b\b\b\b\b\b\b\r576/576 [==============================] - 0s 43us/sample - loss: 0.4911 - accuracy: 0.7726\n",
      "Epoch 26/50\n",
      "\r128/576 [=====>........................] - ETA: 0s - loss: 0.4821 - accuracy: 0.8203",
      "\b\b\b\b\b\b\b\b\b\b\b\b\b\b\b\b\b\b\b\b\b\b\b\b\b\b\b\b\b\b\b\b\b\b\b\b\b\b\b\b\b\b\b\b\b\b\b\b\b\b\b\b\b\b\b\b\b\b\b\b\b\b\b\b\b\b\b\b\b\b\b\b\b\b\b\b\b\b\b\b\b\b\b\b\r576/576 [==============================] - 0s 45us/sample - loss: 0.4888 - accuracy: 0.7708\n",
      "Epoch 27/50\n",
      "\r128/576 [=====>........................] - ETA: 0s - loss: 0.4631 - accuracy: 0.7500",
      "\b\b\b\b\b\b\b\b\b\b\b\b\b\b\b\b\b\b\b\b\b\b\b\b\b\b\b\b\b\b\b\b\b\b\b\b\b\b\b\b\b\b\b\b\b\b\b\b\b\b\b\b\b\b\b\b\b\b\b\b\b\b\b\b\b\b\b\b\b\b\b\b\b\b\b\b\b\b\b\b\b\b\b\b",
      "\r576/576 [==============================] - 0s 44us/sample - loss: 0.4861 - accuracy: 0.7743\n",
      "Epoch 28/50\n",
      "\r128/576 [=====>........................] - ETA: 0s - loss: 0.5157 - accuracy: 0.7734",
      "\b\b\b\b\b\b\b\b\b\b\b\b\b\b\b\b\b\b\b\b\b\b\b\b\b\b\b\b\b\b\b\b\b\b\b\b\b\b\b\b\b\b\b\b\b\b\b\b\b\b\b\b\b\b\b\b\b\b\b\b\b\b\b\b\b\b\b\b\b\b\b\b\b\b\b\b\b\b\b\b\b\b\b\b",
      "\r576/576 [==============================]",
      " - 0s 62us/sample - loss: 0.4840 - accuracy: 0.7760\n",
      "Epoch 29/50\n\r128/576 [=====>........................] - ETA: 0s - loss: 0.5220 - accuracy: 0.7266",
      "\b\b\b\b\b\b\b\b\b\b\b\b\b\b\b\b\b\b\b\b\b\b\b\b\b\b\b\b\b\b\b\b\b\b\b\b\b\b\b\b\b\b\b\b\b\b\b\b\b\b\b\b\b\b\b\b\b\b\b\b\b\b\b\b\b\b\b\b\b\b\b\b\b\b\b\b\b\b\b\b\b\b\b\b",
      "\r576/576 [==============================] - 0s 44us/sample - loss: 0.4822 - accuracy: 0.7743\n",
      "Epoch 30/50",
      "\n\r128/576 [=====>........................] - ETA: 0s - loss: 0.5122 - accuracy: 0.7500",
      "\b\b\b\b\b\b\b\b\b\b\b\b\b\b\b\b\b\b\b\b\b\b\b\b\b\b\b\b\b\b\b\b\b\b\b\b\b\b\b\b\b\b\b\b\b\b\b\b\b\b\b\b\b\b\b\b\b\b\b\b\b\b\b\b\b\b\b\b\b\b\b\b\b\b\b\b\b\b\b\b\b\b\b\b",
      "\r576/576 [==============================] - 0s 38us/sample - loss: 0.4807 - accuracy: 0.7743\n",
      "Epoch 31/50\n",
      "\r128/576 [=====>........................] - ETA: 0s - loss: 0.4590 - accuracy: 0.7969",
      "\b\b\b\b\b\b\b\b\b\b\b\b\b\b\b\b\b\b\b\b\b\b\b\b\b\b\b\b\b\b\b\b\b\b\b\b\b\b\b\b\b\b\b\b\b\b\b\b\b\b\b\b\b\b\b\b\b\b\b\b\b\b\b\b\b\b\b\b\b\b\b\b\b\b\b\b\b\b\b\b\b\b\b\b",
      "\r576/576 [==============================] - 0s 36us/sample - loss: 0.4786 - accuracy: 0.7760\n",
      "Epoch 32/50\n\r128/576 [=====>........................] - ETA: 0s - loss: 0.4617 - accuracy: 0.7578",
      "\b\b\b\b\b\b\b\b\b\b\b\b\b\b\b\b\b\b\b\b\b\b\b\b\b\b\b\b\b\b\b\b\b\b\b\b\b\b\b\b\b\b\b\b\b\b\b\b\b\b\b\b\b\b\b\b\b\b\b\b\b\b\b\b\b\b\b\b\b\b\b\b\b\b\b\b\b\b\b\b\b\b\b\b",
      "\r576/576 [==============================] - 0s 56us/sample - loss: 0.4782 - accuracy: 0.7708\n",
      "Epoch 33/50\n",
      "\r128/576 [=====>........................] - ETA: 0s - loss: 0.5110 - accuracy: 0.7344",
      "\b\b\b\b\b\b\b\b\b\b\b\b\b\b\b\b\b\b\b\b\b\b\b\b\b\b\b\b\b\b\b\b\b\b\b\b\b\b\b\b\b\b\b\b\b\b\b\b\b\b\b\b\b\b\b\b\b\b\b\b\b\b\b\b\b\b\b\b\b\b\b\b\b\b\b\b\b\b\b\b\b\b\b\b",
      "\r576/576 [==============================] - 0s 57us/sample - loss: 0.4761 - accuracy: 0.7743\n",
      "Epoch 34/50\n",
      "\r128/576 [=====>........................] - ETA: 0s - loss: 0.4008 - accuracy: 0.8281",
      "\b\b\b\b\b\b\b\b\b\b\b\b\b\b\b\b\b\b\b\b\b\b\b\b\b\b\b\b\b\b\b\b\b\b\b\b\b\b\b\b\b\b\b\b\b\b\b\b\b\b\b\b\b\b\b\b\b\b\b\b\b\b\b\b\b\b\b\b\b\b\b\b\b\b\b\b\b\b\b\b\b\b\b\b\r576/576 [==============================] - 0s 40us/sample - loss: 0.4747 - accuracy: 0.7760\n",
      "Epoch 35/50\n",
      "\r128/576 [=====>........................] - ETA: 0s - loss: 0.5219 - accuracy: 0.7812",
      "\b\b\b\b\b\b\b\b\b\b\b\b\b\b\b\b\b\b\b\b\b\b\b\b\b\b\b\b\b\b\b\b\b\b\b\b\b\b\b\b\b\b\b\b\b\b\b\b\b\b\b\b\b\b\b\b\b\b\b\b\b\b\b\b\b\b\b\b\b\b\b\b\b\b\b\b\b\b\b\b\b\b\b\b",
      "\r576/576 [==============================] - 0s 48us/sample - loss: 0.4734 - accuracy: 0.7778\n",
      "Epoch 36/50\n\r128/576 [=====>........................] - ETA: 0s - loss: 0.5033 - accuracy: 0.7422",
      "\b\b\b\b\b\b\b\b\b\b\b\b\b\b\b\b\b\b\b\b\b\b\b\b\b\b\b\b\b\b\b\b\b\b\b\b\b\b\b\b\b\b\b\b\b\b\b\b\b\b\b\b\b\b\b\b\b\b\b\b\b\b\b\b\b\b\b\b\b\b\b\b\b\b\b\b\b\b\b\b\b\b\b\b",
      "\r576/576 [==============================] - 0s 65us/sample - loss: 0.4725 - accuracy: 0.7778\n",
      "Epoch 37/50\n\r128/576 [=====>........................] - ETA: 0s - loss: 0.4265 - accuracy: 0.7812",
      "\b\b\b\b\b\b\b\b\b\b\b\b\b\b\b\b\b\b\b\b\b\b\b\b\b\b\b\b\b\b\b\b\b\b\b\b\b\b\b\b\b\b\b\b\b\b\b\b\b\b\b\b\b\b\b\b\b\b\b\b\b\b\b\b\b\b\b\b\b\b\b\b\b\b\b\b\b\b\b\b\b\b\b\b",
      "\r576/576 [==============================] - 0s 47us/sample - loss: 0.4715 - accuracy: 0.7795\n",
      "Epoch 38/50\n\r128/576 [=====>........................] - ETA: 0s - loss: 0.4664 - accuracy: 0.7812",
      "\b\b\b\b\b\b\b\b\b\b\b\b\b\b\b\b\b\b\b\b\b\b\b\b\b\b\b\b\b\b\b\b\b\b\b\b\b\b\b\b\b\b\b\b\b\b\b\b\b\b\b\b\b\b\b\b\b\b\b\b\b\b\b\b\b\b\b\b\b\b\b\b\b\b\b\b\b\b\b\b\b\b\b\b",
      "\r576/576 [==============================] - 0s 35us/sample - loss: 0.4704 - accuracy: 0.7778\n",
      "Epoch 39/50\n",
      "\r128/576 [=====>........................] - ETA: 0s - loss: 0.4886 - accuracy: 0.7500",
      "\b\b\b\b\b\b\b\b\b\b\b\b\b\b\b\b\b\b\b\b\b\b\b\b\b\b\b\b\b\b\b\b\b\b\b\b\b\b\b\b\b\b\b\b\b\b\b\b\b\b\b\b\b\b\b\b\b\b\b\b\b\b\b\b\b\b\b\b\b\b\b\b\b\b\b\b\b\b\b\b\b\b\b\b\r576/576 [==============================] - 0s 53us/sample - loss: 0.4692 - accuracy: 0.7812\n",
      "Epoch 40/50\n",
      "\r128/576 [=====>........................] - ETA: 0s - loss: 0.4285 - accuracy: 0.8125",
      "\b\b\b\b\b\b\b\b\b\b\b\b\b\b\b\b\b\b\b\b\b\b\b\b\b\b\b\b\b\b\b\b\b\b\b\b\b\b\b\b\b\b\b\b\b\b\b\b\b\b\b\b\b\b\b\b\b\b\b\b\b\b\b\b\b\b\b\b\b\b\b\b\b\b\b\b\b\b\b\b\b\b\b\b",
      "\r576/576 [==============================] - 0s 44us/sample - loss: 0.4684 - accuracy: 0.7795\n",
      "Epoch 41/50\n\r128/576 [=====>........................] - ETA: 0s - loss: 0.4215 - accuracy: 0.8125",
      "\b\b\b\b\b\b\b\b\b\b\b\b\b\b\b\b\b\b\b\b\b\b\b\b\b\b\b\b\b\b\b\b\b\b\b\b\b\b\b\b\b\b\b\b\b\b\b\b\b\b\b\b\b\b\b\b\b\b\b\b\b\b\b\b\b\b\b\b\b\b\b\b\b\b\b\b\b\b\b\b\b\b\b\b\r576/576 [==============================] - 0s 32us/sample - loss: 0.4676 - accuracy: 0.7830\n",
      "Epoch 42/50\n",
      "\r128/576 [=====>........................] - ETA: 0s - loss: 0.4430 - accuracy: 0.7734",
      "\b\b\b\b\b\b\b\b\b\b\b\b\b\b\b\b\b\b\b\b\b\b\b\b\b\b\b\b\b\b\b\b\b\b\b\b\b\b\b\b\b\b\b\b\b\b\b\b\b\b\b\b\b\b\b\b\b\b\b\b\b\b\b\b\b\b\b\b\b\b\b\b\b\b\b\b\b\b\b\b\b\b\b\b\r576/576 [==============================] - 0s 35us/sample - loss: 0.4663 - accuracy: 0.7795\n",
      "Epoch 43/50\n\r128/576 [=====>........................] - ETA: 0s - loss: 0.4417 - accuracy: 0.7734",
      "\b\b\b\b\b\b\b\b\b\b\b\b\b\b\b\b\b\b\b\b\b\b\b\b\b\b\b\b\b\b\b\b\b\b\b\b\b\b\b\b\b\b\b\b\b\b\b\b\b\b\b\b\b\b\b\b\b\b\b\b\b\b\b\b\b\b\b\b\b\b\b\b\b\b\b\b\b\b\b\b\b\b\b\b\r576/576 [==============================] - 0s 31us/sample - loss: 0.4651 - accuracy: 0.7865\n",
      "Epoch 44/50\n",
      "\r128/576 [=====>........................] - ETA: 0s - loss: 0.5093 - accuracy: 0.7656",
      "\b\b\b\b\b\b\b\b\b\b\b\b\b\b\b\b\b\b\b\b\b\b\b\b\b\b\b\b\b\b\b\b\b\b\b\b\b\b\b\b\b\b\b\b\b\b\b\b\b\b\b\b\b\b\b\b\b\b\b\b\b\b\b\b\b\b\b\b\b\b\b\b\b\b\b\b\b\b\b\b\b\b\b\b\r576/576 [==============================] - 0s 30us/sample - loss: 0.4650 - accuracy: 0.7795\n",
      "Epoch 45/50\n\r128/576 [=====>........................] - ETA: 0s - loss: 0.4606 - accuracy: 0.7734",
      "\b\b\b\b\b\b\b\b\b\b\b\b\b\b\b\b\b\b\b\b\b\b\b\b\b\b\b\b\b\b\b\b\b\b\b\b\b\b\b\b\b\b\b\b\b\b\b\b\b\b\b\b\b\b\b\b\b\b\b\b\b\b\b\b\b\b\b\b\b\b\b\b\b\b\b\b\b\b\b\b\b\b\b\b",
      "\r576/576 [==============================] - 0s 31us/sample - loss: 0.4647 - accuracy: 0.7830\n",
      "Epoch 46/50\n\r128/576 [=====>........................] - ETA: 0s - loss: 0.4632 - accuracy: 0.7734",
      "\b\b\b\b\b\b\b\b\b\b\b\b\b\b\b\b\b\b\b\b\b\b\b\b\b\b\b\b\b\b\b\b\b\b\b\b\b\b\b\b\b\b\b\b\b\b\b\b\b\b\b\b\b\b\b\b\b\b\b\b\b\b\b\b\b\b\b\b\b\b\b\b\b\b\b\b\b\b\b\b\b\b\b\b",
      "\r576/576 [==============================] - 0s 31us/sample - loss: 0.4636 - accuracy: 0.7812\n",
      "Epoch 47/50\n\r128/576 [=====>........................] - ETA: 0s - loss: 0.4618 - accuracy: 0.8047",
      "\b\b\b\b\b\b\b\b\b\b\b\b\b\b\b\b\b\b\b\b\b\b\b\b\b\b\b\b\b\b\b\b\b\b\b\b\b\b\b\b\b\b\b\b\b\b\b\b\b\b\b\b\b\b\b\b\b\b\b\b\b\b\b\b\b\b\b\b\b\b\b\b\b\b\b\b\b\b\b\b\b\b\b\b\r576/576 [==============================] - 0s 36us/sample - loss: 0.4629 - accuracy: 0.7812\n",
      "Epoch 48/50\n",
      "\r128/576 [=====>........................] - ETA: 0s - loss: 0.4921 - accuracy: 0.7734",
      "\b\b\b\b\b\b\b\b\b\b\b\b\b\b\b\b\b\b\b\b\b\b\b\b\b\b\b\b\b\b\b\b\b\b\b\b\b\b\b\b\b\b\b\b\b\b\b\b\b\b\b\b\b\b\b\b\b\b\b\b\b\b\b\b\b\b\b\b\b\b\b\b\b\b\b\b\b\b\b\b\b\b\b\b",
      "\r576/576 [==============================] - 0s 40us/sample - loss: 0.4615 - accuracy: 0.7847\n",
      "Epoch 49/50\n",
      "\r128/576 [=====>........................] - ETA: 0s - loss: 0.4369 - accuracy: 0.8047",
      "\b\b\b\b\b\b\b\b\b\b\b\b\b\b\b\b\b\b\b\b\b\b\b\b\b\b\b\b\b\b\b\b\b\b\b\b\b\b\b\b\b\b\b\b\b\b\b\b\b\b\b\b\b\b\b\b\b\b\b\b\b\b\b\b\b\b\b\b\b\b\b\b\b\b\b\b\b\b\b\b\b\b\b\b\r576/576 [==============================] - 0s 38us/sample - loss: 0.4607 - accuracy: 0.7830\n",
      "Epoch 50/50\n\r128/576 [=====>........................] - ETA: 0s - loss: 0.4893 - accuracy: 0.7891",
      "\b\b\b\b\b\b\b\b\b\b\b\b\b\b\b\b\b\b\b\b\b\b\b\b\b\b\b\b\b\b\b\b\b\b\b\b\b\b\b\b\b\b\b\b\b\b\b\b\b\b\b\b\b\b\b\b\b\b\b\b\b\b\b\b\b\b\b\b\b\b\b\b\b\b\b\b\b\b\b\b\b\b\b\b",
      "\r576/576 [==============================] - 0s 36us/sample - loss: 0.4609 - accuracy: 0.7830\n"
     ],
     "output_type": "stream"
    }
   ],
   "source": [
    "history2 = network2.fit(x_train, train_labels, epochs = 50, batch_size=128)\n",
    "training_loss2 = history2.history['loss']"
   ],
   "metadata": {
    "collapsed": false,
    "pycharm": {
     "name": "#%%\n",
     "is_executing": false
    }
   }
  },
  {
   "cell_type": "code",
   "execution_count": 184,
   "outputs": [
    {
     "data": {
      "text/plain": "<matplotlib.legend.Legend at 0x22008e927c8>"
     },
     "metadata": {},
     "output_type": "execute_result",
     "execution_count": 184
    },
    {
     "data": {
      "text/plain": "<Figure size 432x288 with 1 Axes>",
      "image/png": "[encoded data removed]"
     },
     "metadata": {
      "needs_background": "light"
     },
     "output_type": "display_data"
    }
   ],
   "source": [
    "import matplotlib.pyplot as plt\n",
    "\n",
    "epochs = range(1, len(training_loss2) +1)\n",
    "plt.plot(epochs, training_loss2, label='Training loss')\n",
    "plt.legend()\n"
   ],
   "metadata": {
    "collapsed": false,
    "pycharm": {
     "name": "#%%\n",
     "is_executing": false
    }
   }
  },
  {
   "cell_type": "code",
   "execution_count": 185,
   "outputs": [
    {
     "name": "stdout",
     "text": [
      "[[117  13]\n [ 24  38]]\n"
     ],
     "output_type": "stream"
    }
   ],
   "source": [
    "from sklearn.metrics import confusion_matrix\n",
    "import numpy as np\n",
    "\n",
    "predictions2 = network2.predict(x_test)\n",
    "confusion2 = confusion_matrix(np.argmax(test_labels,axis=1), np.argmax(predictions2,axis=1))\n",
    "print(confusion2)"
   ],
   "metadata": {
    "collapsed": false,
    "pycharm": {
     "name": "#%%\n",
     "is_executing": false
    }
   }
  },
  {
   "cell_type": "code",
   "execution_count": null,
   "outputs": [],
   "source": [],
   "metadata": {
    "collapsed": false,
    "pycharm": {
     "name": "#%%\n"
    }
   }
  }
 ],
 "metadata": {
  "kernelspec": {
   "display_name": "Python 3",
   "language": "python",
   "name": "python3"
  },
  "language_info": {
   "codemirror_mode": {
    "name": "ipython",
    "version": 2
   },
   "file_extension": ".py",
   "mimetype": "text/x-python",
   "name": "python",
   "nbconvert_exporter": "python",
   "pygments_lexer": "ipython2",
   "version": "2.7.6"
  },
  "pycharm": {
   "stem_cell": {
    "cell_type": "raw",
    "source": [],
    "metadata": {
     "collapsed": false
    }
   }
  }
 },
 "nbformat": 4,
 "nbformat_minor": 0
}