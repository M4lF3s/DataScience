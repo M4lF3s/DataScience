{
 "cells": [
  {
   "cell_type": "markdown",
   "metadata": {
    "collapsed": true,
    "pycharm": {
     "name": "#%% md\n"
    }
   },
   "source": [
    "### a) Import the associated csv file. Do not use the 'fips' column (which you should import as str) as the index column. Make sure the 'Number_of_returns' and 'estimated_exams' columns are imported as 'Int64'"
   ]
  },
  {
   "cell_type": "code",
   "execution_count": 2,
   "outputs": [],
   "source": [
    "import pandas as pd\n",
    "import numpy as np"
   ],
   "metadata": {
    "collapsed": false,
    "pycharm": {
     "name": "#%%\n",
     "is_executing": false
    }
   }
  },
  {
   "cell_type": "code",
   "execution_count": 3,
   "outputs": [
    {
     "data": {
      "text/plain": "    fips                     name    state  Number_of_returns  \\\n0  01001  Autauga County, Alabama  Alabama              95170   \n1  01003  Baldwin County, Alabama  Alabama             362490   \n2  01005  Barbour County, Alabama  Alabama              39440   \n3  01007     Bibb County, Alabama  Alabama              31840   \n4  01009   Blount County, Alabama  Alabama              87970   \n\n   estimated_exams  audit_rate  audit_rate_trunk  \n0              721    7.575917          7.575917  \n1             2833    7.815388          7.815388  \n2              360    9.127789          9.127789  \n3              260    8.165829          8.165829  \n4              673    7.650335          7.650335  ",
      "text/html": "<div>\n<style scoped>\n    .dataframe tbody tr th:only-of-type {\n        vertical-align: middle;\n    }\n\n    .dataframe tbody tr th {\n        vertical-align: top;\n    }\n\n    .dataframe thead th {\n        text-align: right;\n    }\n</style>\n<table border=\"1\" class=\"dataframe\">\n  <thead>\n    <tr style=\"text-align: right;\">\n      <th></th>\n      <th>fips</th>\n      <th>name</th>\n      <th>state</th>\n      <th>Number_of_returns</th>\n      <th>estimated_exams</th>\n      <th>audit_rate</th>\n      <th>audit_rate_trunk</th>\n    </tr>\n  </thead>\n  <tbody>\n    <tr>\n      <th>0</th>\n      <td>01001</td>\n      <td>Autauga County, Alabama</td>\n      <td>Alabama</td>\n      <td>95170</td>\n      <td>721</td>\n      <td>7.575917</td>\n      <td>7.575917</td>\n    </tr>\n    <tr>\n      <th>1</th>\n      <td>01003</td>\n      <td>Baldwin County, Alabama</td>\n      <td>Alabama</td>\n      <td>362490</td>\n      <td>2833</td>\n      <td>7.815388</td>\n      <td>7.815388</td>\n    </tr>\n    <tr>\n      <th>2</th>\n      <td>01005</td>\n      <td>Barbour County, Alabama</td>\n      <td>Alabama</td>\n      <td>39440</td>\n      <td>360</td>\n      <td>9.127789</td>\n      <td>9.127789</td>\n    </tr>\n    <tr>\n      <th>3</th>\n      <td>01007</td>\n      <td>Bibb County, Alabama</td>\n      <td>Alabama</td>\n      <td>31840</td>\n      <td>260</td>\n      <td>8.165829</td>\n      <td>8.165829</td>\n    </tr>\n    <tr>\n      <th>4</th>\n      <td>01009</td>\n      <td>Blount County, Alabama</td>\n      <td>Alabama</td>\n      <td>87970</td>\n      <td>673</td>\n      <td>7.650335</td>\n      <td>7.650335</td>\n    </tr>\n  </tbody>\n</table>\n</div>"
     },
     "metadata": {},
     "output_type": "execute_result",
     "execution_count": 3
    }
   ],
   "source": [
    "df = pd.read_csv('auditsData_2019.04.03.csv', header=0, dtype={'fips': np.str, 'Number_of_returns': 'int64', 'estimated_exams': 'int64'})\n",
    "df.head()"
   ],
   "metadata": {
    "collapsed": false,
    "pycharm": {
     "name": "#%%\n",
     "is_executing": false
    }
   }
  },
  {
   "cell_type": "markdown",
   "source": [
    "### b) Create a list of the states using the data. Create two lists in which you store the number of tax returns and the number of estimated exams for each state, respectively. Create a dictionary my_dict with 'state', 'Number_of_returns', and 'estimated_exams' as keys and the three lists as the corresponding values. Create a new dataFrame from the dictionary using pd.DataFrame.from_dict(temp_dict)."
   ],
   "metadata": {
    "collapsed": false,
    "pycharm": {
     "name": "#%% md\n",
     "is_executing": false
    }
   }
  },
  {
   "cell_type": "code",
   "execution_count": 4,
   "outputs": [],
   "source": [
    "states = df['state'].unique()\n",
    "returns = (df[['Number_of_returns', 'state']].groupby('state').sum())['Number_of_returns'].tolist()\n",
    "exams = (df[['estimated_exams', 'state']].groupby('state').sum())['estimated_exams'].tolist()\n"
   ],
   "metadata": {
    "collapsed": false,
    "pycharm": {
     "name": "#%%\n",
     "is_executing": false
    }
   }
  },
  {
   "cell_type": "code",
   "execution_count": 5,
   "outputs": [],
   "source": [
    "my_dict = {x[0]:list(x[1:]) for x in zip(states,returns,exams)}\n",
    "new_df = pd.DataFrame.from_dict(my_dict)\n"
   ],
   "metadata": {
    "collapsed": false,
    "pycharm": {
     "name": "#%%\n",
     "is_executing": false
    }
   }
  },
  {
   "cell_type": "code",
   "execution_count": 6,
   "outputs": [
    {
     "data": {
      "text/plain": "   Alabama   Alaska   Arizona  Arkansas  California  Colorado  Connecticut  \\\n0  8199560  1445720  11321910   4892180    69245600  10122840      7001330   \n1    67237    10118     88969     39869      550618     74419        51712   \n\n   Delaware  District of Columbia   Florida  ...  South Dakota  Tennessee  \\\n0   1769910               1340370  37564020  ...       1652110   11688480   \n1     12928                 10492    308503  ...         12017      92491   \n\n      Texas     Utah  Vermont  Virginia  Washington  West Virginia  Wisconsin  \\\n0  47598120  4855480  1291760  15426020    13312120        3130890   11228350   \n1    386203    35123     9174    116287       96271          23228      77764   \n\n   Wyoming  \n0  1143480  \n1     8168  \n\n[2 rows x 51 columns]",
      "text/html": "<div>\n<style scoped>\n    .dataframe tbody tr th:only-of-type {\n        vertical-align: middle;\n    }\n\n    .dataframe tbody tr th {\n        vertical-align: top;\n    }\n\n    .dataframe thead th {\n        text-align: right;\n    }\n</style>\n<table border=\"1\" class=\"dataframe\">\n  <thead>\n    <tr style=\"text-align: right;\">\n      <th></th>\n      <th>Alabama</th>\n      <th>Alaska</th>\n      <th>Arizona</th>\n      <th>Arkansas</th>\n      <th>California</th>\n      <th>Colorado</th>\n      <th>Connecticut</th>\n      <th>Delaware</th>\n      <th>District of Columbia</th>\n      <th>Florida</th>\n      <th>...</th>\n      <th>South Dakota</th>\n      <th>Tennessee</th>\n      <th>Texas</th>\n      <th>Utah</th>\n      <th>Vermont</th>\n      <th>Virginia</th>\n      <th>Washington</th>\n      <th>West Virginia</th>\n      <th>Wisconsin</th>\n      <th>Wyoming</th>\n    </tr>\n  </thead>\n  <tbody>\n    <tr>\n      <th>0</th>\n      <td>8199560</td>\n      <td>1445720</td>\n      <td>11321910</td>\n      <td>4892180</td>\n      <td>69245600</td>\n      <td>10122840</td>\n      <td>7001330</td>\n      <td>1769910</td>\n      <td>1340370</td>\n      <td>37564020</td>\n      <td>...</td>\n      <td>1652110</td>\n      <td>11688480</td>\n      <td>47598120</td>\n      <td>4855480</td>\n      <td>1291760</td>\n      <td>15426020</td>\n      <td>13312120</td>\n      <td>3130890</td>\n      <td>11228350</td>\n      <td>1143480</td>\n    </tr>\n    <tr>\n      <th>1</th>\n      <td>67237</td>\n      <td>10118</td>\n      <td>88969</td>\n      <td>39869</td>\n      <td>550618</td>\n      <td>74419</td>\n      <td>51712</td>\n      <td>12928</td>\n      <td>10492</td>\n      <td>308503</td>\n      <td>...</td>\n      <td>12017</td>\n      <td>92491</td>\n      <td>386203</td>\n      <td>35123</td>\n      <td>9174</td>\n      <td>116287</td>\n      <td>96271</td>\n      <td>23228</td>\n      <td>77764</td>\n      <td>8168</td>\n    </tr>\n  </tbody>\n</table>\n<p>2 rows × 51 columns</p>\n</div>"
     },
     "metadata": {},
     "output_type": "execute_result",
     "execution_count": 6
    }
   ],
   "source": [
    "new_df"
   ],
   "metadata": {
    "collapsed": false,
    "pycharm": {
     "name": "#%%\n",
     "is_executing": false
    }
   }
  },
  {
   "cell_type": "markdown",
   "source": [
    "### c) Using the dataFrame from b), create a bar plot that shows the total number of tax returns per state. Without using the plot, determine and display the state that has the second lowest number of tax returns"
   ],
   "metadata": {
    "collapsed": false,
    "pycharm": {
     "name": "#%% md\n"
    }
   }
  },
  {
   "cell_type": "code",
   "execution_count": 7,
   "outputs": [
    {
     "data": {
      "text/plain": "<matplotlib.axes._subplots.AxesSubplot at 0x11a2383d0>"
     },
     "metadata": {},
     "output_type": "execute_result",
     "execution_count": 7
    },
    {
     "data": {
      "text/plain": "<Figure size 432x288 with 1 Axes>",
      "image/png": "[encoded data removed]"
     },
     "metadata": {
      "needs_background": "light"
     },
     "output_type": "display_data"
    }
   ],
   "source": [
    "new_df.loc[0,:].plot.bar()"
   ],
   "metadata": {
    "collapsed": false,
    "pycharm": {
     "name": "#%%\n",
     "is_executing": false
    }
   }
  },
  {
   "cell_type": "code",
   "execution_count": 8,
   "outputs": [
    {
     "data": {
      "text/plain": "1291760"
     },
     "metadata": {},
     "output_type": "execute_result",
     "execution_count": 8
    }
   ],
   "source": [
    "new_df.loc[0,:].sort_values(ascending=True)[1]"
   ],
   "metadata": {
    "collapsed": false,
    "pycharm": {
     "name": "#%%\n",
     "is_executing": false
    }
   }
  },
  {
   "cell_type": "markdown",
   "source": [
    "### d) For each state display the county with the highest and the lowest audit rate."
   ],
   "metadata": {
    "collapsed": false,
    "pycharm": {
     "name": "#%% md\n"
    }
   }
  },
  {
   "cell_type": "code",
   "execution_count": 21,
   "outputs": [],
   "source": [
    "#highest = (df[['audit_rate', 'state']].groupby('state').max())['audit_rate'].tolist()\n",
    "#lowest = (df[['audit_rate', 'state']].groupby('state').min())['audit_rate'].tolist()\n",
    "#pd.DataFrame.from_dict({x[0]:list(x[1:]) for x in zip(states,highest,lowest)})"
   ],
   "metadata": {
    "collapsed": false,
    "pycharm": {
     "name": "#%%\n",
     "is_executing": false
    }
   }
  },
  {
   "cell_type": "code",
   "execution_count": 39,
   "outputs": [
    {
     "data": {
      "text/plain": "                                                             min  \\\nstate                                                              \nAlabama                                  Autauga County, Alabama   \nAlaska                            Aleutians East Borough, Alaska   \nArizona                                   Apache County, Arizona   \nArkansas                               Arkansas County, Arkansas   \nCalifornia                            Alameda County, California   \nColorado                                  Adams County, Colorado   \nConnecticut                        Fairfield County, Connecticut   \nDelaware                                   Kent County, Delaware   \nDistrict of Columbia  District of Columbia, District of Columbia   \nFlorida                                  Alachua County, Florida   \nGeorgia                                  Appling County, Georgia   \nHawaii                                     Hawaii County, Hawaii   \nIdaho                                          Ada County, Idaho   \nIllinois                                  Adams County, Illinois   \nIndiana                                    Adams County, Indiana   \nIowa                                          Adair County, Iowa   \nKansas                                      Allen County, Kansas   \nKentucky                                  Adair County, Kentucky   \nLouisiana                               Acadia Parish, Louisiana   \nMaine                                 Androscoggin County, Maine   \nMaryland                               Allegany County, Maryland   \nMassachusetts                   Barnstable County, Massachusetts   \nMichigan                                 Alcona County, Michigan   \nMinnesota                               Aitkin County, Minnesota   \nMississippi                            Adams County, Mississippi   \nMissouri                                  Adair County, Missouri   \nMontana                               Beaverhead County, Montana   \nNebraska                                  Adams County, Nebraska   \nNevada                                       Carson City, Nevada   \nNew Hampshire                      Belknap County, New Hampshire   \nNew Jersey                           Atlantic County, New Jersey   \nNew Mexico                         Bernalillo County, New Mexico   \nNew York                                 Albany County, New York   \nNorth Carolina                   Alamance County, North Carolina   \nNorth Dakota                          Adams County, North Dakota   \nOhio                                          Adams County, Ohio   \nOklahoma                                  Adair County, Oklahoma   \nOregon                                      Baker County, Oregon   \nPennsylvania                          Adams County, Pennsylvania   \nRhode Island                        Bristol County, Rhode Island   \nSouth Carolina                  Abbeville County, South Carolina   \nSouth Dakota                         Aurora County, South Dakota   \nTennessee                             Anderson County, Tennessee   \nTexas                                     Anderson County, Texas   \nUtah                                         Beaver County, Utah   \nVermont                                  Addison County, Vermont   \nVirginia                               Accomack County, Virginia   \nWashington                              Adams County, Washington   \nWest Virginia                      Barbour County, West Virginia   \nWisconsin                                Adams County, Wisconsin   \nWyoming                                   Albany County, Wyoming   \n\n                                                             max  \nstate                                                             \nAlabama                                  Winston County, Alabama  \nAlaska                         Yukon-Koyukuk Census Area, Alaska  \nArizona                                     Yuma County, Arizona  \nArkansas                                   Yell County, Arkansas  \nCalifornia                               Yuba County, California  \nColorado                                   Yuma County, Colorado  \nConnecticut                          Windham County, Connecticut  \nDelaware                                 Sussex County, Delaware  \nDistrict of Columbia  District of Columbia, District of Columbia  \nFlorida                               Washington County, Florida  \nGeorgia                                    Worth County, Georgia  \nHawaii                                       Maui County, Hawaii  \nIdaho                                   Washington County, Idaho  \nIllinois                               Woodford County, Illinois  \nIndiana                                  Whitley County, Indiana  \nIowa                                         Wright County, Iowa  \nKansas                                  Wyandotte County, Kansas  \nKentucky                               Woodford County, Kentucky  \nLouisiana                                 Winn Parish, Louisiana  \nMaine                                         York County, Maine  \nMaryland                              Worcester County, Maryland  \nMassachusetts                    Worcester County, Massachusetts  \nMichigan                                Wexford County, Michigan  \nMinnesota                      Yellow Medicine County, Minnesota  \nMississippi                            Yazoo County, Mississippi  \nMissouri                                 Wright County, Missouri  \nMontana                              Yellowstone County, Montana  \nNebraska                                   York County, Nebraska  \nNevada                                 White Pine County, Nevada  \nNew Hampshire                     Sullivan County, New Hampshire  \nNew Jersey                             Warren County, New Jersey  \nNew Mexico                           Valencia County, New Mexico  \nNew York                                  Yates County, New York  \nNorth Carolina                     Yancey County, North Carolina  \nNorth Dakota                       Williams County, North Dakota  \nOhio                                        Wyandot County, Ohio  \nOklahoma                               Woodward County, Oklahoma  \nOregon                                    Yamhill County, Oregon  \nPennsylvania                           York County, Pennsylvania  \nRhode Island                     Washington County, Rhode Island  \nSouth Carolina                       York County, South Carolina  \nSouth Dakota                        Ziebach County, South Dakota  \nTennessee                               Wilson County, Tennessee  \nTexas                                       Zavala County, Texas  \nUtah                                          Weber County, Utah  \nVermont                                  Windsor County, Vermont  \nVirginia                                   York County, Virginia  \nWashington                             Yakima County, Washington  \nWest Virginia                      Wyoming County, West Virginia  \nWisconsin                                 Wood County, Wisconsin  \nWyoming                                   Weston County, Wyoming  ",
      "text/html": "<div>\n<style scoped>\n    .dataframe tbody tr th:only-of-type {\n        vertical-align: middle;\n    }\n\n    .dataframe tbody tr th {\n        vertical-align: top;\n    }\n\n    .dataframe thead th {\n        text-align: right;\n    }\n</style>\n<table border=\"1\" class=\"dataframe\">\n  <thead>\n    <tr style=\"text-align: right;\">\n      <th></th>\n      <th>min</th>\n      <th>max</th>\n    </tr>\n    <tr>\n      <th>state</th>\n      <th></th>\n      <th></th>\n    </tr>\n  </thead>\n  <tbody>\n    <tr>\n      <th>Alabama</th>\n      <td>Autauga County, Alabama</td>\n      <td>Winston County, Alabama</td>\n    </tr>\n    <tr>\n      <th>Alaska</th>\n      <td>Aleutians East Borough, Alaska</td>\n      <td>Yukon-Koyukuk Census Area, Alaska</td>\n    </tr>\n    <tr>\n      <th>Arizona</th>\n      <td>Apache County, Arizona</td>\n      <td>Yuma County, Arizona</td>\n    </tr>\n    <tr>\n      <th>Arkansas</th>\n      <td>Arkansas County, Arkansas</td>\n      <td>Yell County, Arkansas</td>\n    </tr>\n    <tr>\n      <th>California</th>\n      <td>Alameda County, California</td>\n      <td>Yuba County, California</td>\n    </tr>\n    <tr>\n      <th>Colorado</th>\n      <td>Adams County, Colorado</td>\n      <td>Yuma County, Colorado</td>\n    </tr>\n    <tr>\n      <th>Connecticut</th>\n      <td>Fairfield County, Connecticut</td>\n      <td>Windham County, Connecticut</td>\n    </tr>\n    <tr>\n      <th>Delaware</th>\n      <td>Kent County, Delaware</td>\n      <td>Sussex County, Delaware</td>\n    </tr>\n    <tr>\n      <th>District of Columbia</th>\n      <td>District of Columbia, District of Columbia</td>\n      <td>District of Columbia, District of Columbia</td>\n    </tr>\n    <tr>\n      <th>Florida</th>\n      <td>Alachua County, Florida</td>\n      <td>Washington County, Florida</td>\n    </tr>\n    <tr>\n      <th>Georgia</th>\n      <td>Appling County, Georgia</td>\n      <td>Worth County, Georgia</td>\n    </tr>\n    <tr>\n      <th>Hawaii</th>\n      <td>Hawaii County, Hawaii</td>\n      <td>Maui County, Hawaii</td>\n    </tr>\n    <tr>\n      <th>Idaho</th>\n      <td>Ada County, Idaho</td>\n      <td>Washington County, Idaho</td>\n    </tr>\n    <tr>\n      <th>Illinois</th>\n      <td>Adams County, Illinois</td>\n      <td>Woodford County, Illinois</td>\n    </tr>\n    <tr>\n      <th>Indiana</th>\n      <td>Adams County, Indiana</td>\n      <td>Whitley County, Indiana</td>\n    </tr>\n    <tr>\n      <th>Iowa</th>\n      <td>Adair County, Iowa</td>\n      <td>Wright County, Iowa</td>\n    </tr>\n    <tr>\n      <th>Kansas</th>\n      <td>Allen County, Kansas</td>\n      <td>Wyandotte County, Kansas</td>\n    </tr>\n    <tr>\n      <th>Kentucky</th>\n      <td>Adair County, Kentucky</td>\n      <td>Woodford County, Kentucky</td>\n    </tr>\n    <tr>\n      <th>Louisiana</th>\n      <td>Acadia Parish, Louisiana</td>\n      <td>Winn Parish, Louisiana</td>\n    </tr>\n    <tr>\n      <th>Maine</th>\n      <td>Androscoggin County, Maine</td>\n      <td>York County, Maine</td>\n    </tr>\n    <tr>\n      <th>Maryland</th>\n      <td>Allegany County, Maryland</td>\n      <td>Worcester County, Maryland</td>\n    </tr>\n    <tr>\n      <th>Massachusetts</th>\n      <td>Barnstable County, Massachusetts</td>\n      <td>Worcester County, Massachusetts</td>\n    </tr>\n    <tr>\n      <th>Michigan</th>\n      <td>Alcona County, Michigan</td>\n      <td>Wexford County, Michigan</td>\n    </tr>\n    <tr>\n      <th>Minnesota</th>\n      <td>Aitkin County, Minnesota</td>\n      <td>Yellow Medicine County, Minnesota</td>\n    </tr>\n    <tr>\n      <th>Mississippi</th>\n      <td>Adams County, Mississippi</td>\n      <td>Yazoo County, Mississippi</td>\n    </tr>\n    <tr>\n      <th>Missouri</th>\n      <td>Adair County, Missouri</td>\n      <td>Wright County, Missouri</td>\n    </tr>\n    <tr>\n      <th>Montana</th>\n      <td>Beaverhead County, Montana</td>\n      <td>Yellowstone County, Montana</td>\n    </tr>\n    <tr>\n      <th>Nebraska</th>\n      <td>Adams County, Nebraska</td>\n      <td>York County, Nebraska</td>\n    </tr>\n    <tr>\n      <th>Nevada</th>\n      <td>Carson City, Nevada</td>\n      <td>White Pine County, Nevada</td>\n    </tr>\n    <tr>\n      <th>New Hampshire</th>\n      <td>Belknap County, New Hampshire</td>\n      <td>Sullivan County, New Hampshire</td>\n    </tr>\n    <tr>\n      <th>New Jersey</th>\n      <td>Atlantic County, New Jersey</td>\n      <td>Warren County, New Jersey</td>\n    </tr>\n    <tr>\n      <th>New Mexico</th>\n      <td>Bernalillo County, New Mexico</td>\n      <td>Valencia County, New Mexico</td>\n    </tr>\n    <tr>\n      <th>New York</th>\n      <td>Albany County, New York</td>\n      <td>Yates County, New York</td>\n    </tr>\n    <tr>\n      <th>North Carolina</th>\n      <td>Alamance County, North Carolina</td>\n      <td>Yancey County, North Carolina</td>\n    </tr>\n    <tr>\n      <th>North Dakota</th>\n      <td>Adams County, North Dakota</td>\n      <td>Williams County, North Dakota</td>\n    </tr>\n    <tr>\n      <th>Ohio</th>\n      <td>Adams County, Ohio</td>\n      <td>Wyandot County, Ohio</td>\n    </tr>\n    <tr>\n      <th>Oklahoma</th>\n      <td>Adair County, Oklahoma</td>\n      <td>Woodward County, Oklahoma</td>\n    </tr>\n    <tr>\n      <th>Oregon</th>\n      <td>Baker County, Oregon</td>\n      <td>Yamhill County, Oregon</td>\n    </tr>\n    <tr>\n      <th>Pennsylvania</th>\n      <td>Adams County, Pennsylvania</td>\n      <td>York County, Pennsylvania</td>\n    </tr>\n    <tr>\n      <th>Rhode Island</th>\n      <td>Bristol County, Rhode Island</td>\n      <td>Washington County, Rhode Island</td>\n    </tr>\n    <tr>\n      <th>South Carolina</th>\n      <td>Abbeville County, South Carolina</td>\n      <td>York County, South Carolina</td>\n    </tr>\n    <tr>\n      <th>South Dakota</th>\n      <td>Aurora County, South Dakota</td>\n      <td>Ziebach County, South Dakota</td>\n    </tr>\n    <tr>\n      <th>Tennessee</th>\n      <td>Anderson County, Tennessee</td>\n      <td>Wilson County, Tennessee</td>\n    </tr>\n    <tr>\n      <th>Texas</th>\n      <td>Anderson County, Texas</td>\n      <td>Zavala County, Texas</td>\n    </tr>\n    <tr>\n      <th>Utah</th>\n      <td>Beaver County, Utah</td>\n      <td>Weber County, Utah</td>\n    </tr>\n    <tr>\n      <th>Vermont</th>\n      <td>Addison County, Vermont</td>\n      <td>Windsor County, Vermont</td>\n    </tr>\n    <tr>\n      <th>Virginia</th>\n      <td>Accomack County, Virginia</td>\n      <td>York County, Virginia</td>\n    </tr>\n    <tr>\n      <th>Washington</th>\n      <td>Adams County, Washington</td>\n      <td>Yakima County, Washington</td>\n    </tr>\n    <tr>\n      <th>West Virginia</th>\n      <td>Barbour County, West Virginia</td>\n      <td>Wyoming County, West Virginia</td>\n    </tr>\n    <tr>\n      <th>Wisconsin</th>\n      <td>Adams County, Wisconsin</td>\n      <td>Wood County, Wisconsin</td>\n    </tr>\n    <tr>\n      <th>Wyoming</th>\n      <td>Albany County, Wyoming</td>\n      <td>Weston County, Wyoming</td>\n    </tr>\n  </tbody>\n</table>\n</div>"
     },
     "metadata": {},
     "output_type": "execute_result",
     "execution_count": 39
    }
   ],
   "source": [
    "mins = (df[['audit_rate', 'state', 'name']].groupby('state').min())['name']\n",
    "maxs = (df[['audit_rate', 'state', 'name']].groupby('state').max())['name']\n",
    "pd.DataFrame({'min': mins, 'max': maxs})\n"
   ],
   "metadata": {
    "collapsed": false,
    "pycharm": {
     "name": "#%%\n",
     "is_executing": false
    }
   }
  },
  {
   "cell_type": "markdown",
   "source": [
    "### e) Assume that a tax return that is not (closely) examined takes one minute to process, while a (closely) examined one takes one hour. How many work-years are required to process all tax returns in the dataFrame?"
   ],
   "metadata": {
    "collapsed": false,
    "pycharm": {
     "name": "#%% md\n"
    }
   }
  },
  {
   "cell_type": "code",
   "execution_count": 45,
   "outputs": [
    {
     "data": {
      "text/plain": "1621.013177321178"
     },
     "metadata": {},
     "output_type": "execute_result",
     "execution_count": 45
    }
   ],
   "source": [
    "((df['estimated_exams'].multiply(60).sum()) + (df['Number_of_returns'].sum() - df['estimated_exams'].sum())) * 0.0000019025875190259"
   ],
   "metadata": {
    "collapsed": false,
    "pycharm": {
     "name": "#%%\n",
     "is_executing": false
    }
   }
  },
  {
   "cell_type": "code",
   "execution_count": null,
   "outputs": [],
   "source": [
    "\n"
   ],
   "metadata": {
    "collapsed": false,
    "pycharm": {
     "name": "#%%\n"
    }
   }
  }
 ],
 "metadata": {
  "kernelspec": {
   "display_name": "Python 3",
   "language": "python",
   "name": "python3"
  },
  "language_info": {
   "codemirror_mode": {
    "name": "ipython",
    "version": 2
   },
   "file_extension": ".py",
   "mimetype": "text/x-python",
   "name": "python",
   "nbconvert_exporter": "python",
   "pygments_lexer": "ipython2",
   "version": "2.7.6"
  },
  "pycharm": {
   "stem_cell": {
    "cell_type": "raw",
    "source": [],
    "metadata": {
     "collapsed": false
    }
   }
  }
 },
 "nbformat": 4,
 "nbformat_minor": 0
}