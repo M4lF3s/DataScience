{
 "cells": [
  {
   "cell_type": "code",
   "execution_count": 26,
   "metadata": {
    "collapsed": true,
    "pycharm": {
     "is_executing": false
    }
   },
   "outputs": [],
   "source": [
    "import pandas as pd\n",
    "import numpy as np"
   ]
  },
  {
   "cell_type": "markdown",
   "source": [
    "### a) Import the csv file with only the first line as header and with the first column being the index. (Treat the second header line as data for now.) Make sure the index column (“RespondentID”) is of type 'Int64'."
   ],
   "metadata": {
    "collapsed": false,
    "pycharm": {
     "name": "#%% md\n"
    }
   }
  },
  {
   "cell_type": "code",
   "execution_count": 79,
   "outputs": [
    {
     "traceback": [
      "\u001b[0;31m---------------------------------------------------------------------------\u001b[0m",
      "\u001b[0;31mValueError\u001b[0m                                Traceback (most recent call last)",
      "\u001b[0;32m/usr/local/lib/python3.7/site-packages/pandas/core/indexes/base.py\u001b[0m in \u001b[0;36mastype\u001b[0;34m(self, dtype, copy)\u001b[0m\n\u001b[1;32m    850\u001b[0m             return Index(\n\u001b[0;32m--> 851\u001b[0;31m                 \u001b[0mself\u001b[0m\u001b[0;34m.\u001b[0m\u001b[0mvalues\u001b[0m\u001b[0;34m.\u001b[0m\u001b[0mastype\u001b[0m\u001b[0;34m(\u001b[0m\u001b[0mdtype\u001b[0m\u001b[0;34m,\u001b[0m \u001b[0mcopy\u001b[0m\u001b[0;34m=\u001b[0m\u001b[0mcopy\u001b[0m\u001b[0;34m)\u001b[0m\u001b[0;34m,\u001b[0m \u001b[0mname\u001b[0m\u001b[0;34m=\u001b[0m\u001b[0mself\u001b[0m\u001b[0;34m.\u001b[0m\u001b[0mname\u001b[0m\u001b[0;34m,\u001b[0m \u001b[0mdtype\u001b[0m\u001b[0;34m=\u001b[0m\u001b[0mdtype\u001b[0m\u001b[0;34m\u001b[0m\u001b[0;34m\u001b[0m\u001b[0m\n\u001b[0m\u001b[1;32m    852\u001b[0m             )\n",
      "\u001b[0;31mValueError\u001b[0m: invalid literal for int() with base 10: 'nan'",
      "\nDuring handling of the above exception, another exception occurred:\n",
      "\u001b[0;31mTypeError\u001b[0m                                 Traceback (most recent call last)",
      "\u001b[0;32m<ipython-input-79-623d4d707af0>\u001b[0m in \u001b[0;36m<module>\u001b[0;34m\u001b[0m\n\u001b[1;32m      7\u001b[0m \u001b[0;31m#df.dropna(subset=['RespondentID'], inplace=True)\u001b[0m\u001b[0;34m\u001b[0m\u001b[0;34m\u001b[0m\u001b[0;34m\u001b[0m\u001b[0m\n\u001b[1;32m      8\u001b[0m \u001b[0mdf\u001b[0m\u001b[0;34m.\u001b[0m\u001b[0mset_index\u001b[0m\u001b[0;34m(\u001b[0m\u001b[0;34m'RespondentID'\u001b[0m\u001b[0;34m,\u001b[0m \u001b[0minplace\u001b[0m\u001b[0;34m=\u001b[0m\u001b[0;32mTrue\u001b[0m\u001b[0;34m)\u001b[0m\u001b[0;34m\u001b[0m\u001b[0;34m\u001b[0m\u001b[0m\n\u001b[0;32m----> 9\u001b[0;31m \u001b[0mdf\u001b[0m\u001b[0;34m.\u001b[0m\u001b[0mindex\u001b[0m \u001b[0;34m=\u001b[0m \u001b[0mdf\u001b[0m\u001b[0;34m.\u001b[0m\u001b[0mindex\u001b[0m\u001b[0;34m.\u001b[0m\u001b[0mastype\u001b[0m\u001b[0;34m(\u001b[0m\u001b[0mstr\u001b[0m\u001b[0;34m)\u001b[0m\u001b[0;34m.\u001b[0m\u001b[0mastype\u001b[0m\u001b[0;34m(\u001b[0m\u001b[0mint\u001b[0m\u001b[0;34m)\u001b[0m\u001b[0;34m\u001b[0m\u001b[0;34m\u001b[0m\u001b[0m\n\u001b[0m\u001b[1;32m     10\u001b[0m \u001b[0;34m\u001b[0m\u001b[0m\n",
      "\u001b[0;32m/usr/local/lib/python3.7/site-packages/pandas/core/indexes/base.py\u001b[0m in \u001b[0;36mastype\u001b[0;34m(self, dtype, copy)\u001b[0m\n\u001b[1;32m    853\u001b[0m         \u001b[0;32mexcept\u001b[0m \u001b[0;34m(\u001b[0m\u001b[0mTypeError\u001b[0m\u001b[0;34m,\u001b[0m \u001b[0mValueError\u001b[0m\u001b[0;34m)\u001b[0m\u001b[0;34m:\u001b[0m\u001b[0;34m\u001b[0m\u001b[0;34m\u001b[0m\u001b[0m\n\u001b[1;32m    854\u001b[0m             \u001b[0mmsg\u001b[0m \u001b[0;34m=\u001b[0m \u001b[0;34m\"Cannot cast {name} to dtype {dtype}\"\u001b[0m\u001b[0;34m\u001b[0m\u001b[0;34m\u001b[0m\u001b[0m\n\u001b[0;32m--> 855\u001b[0;31m             \u001b[0;32mraise\u001b[0m \u001b[0mTypeError\u001b[0m\u001b[0;34m(\u001b[0m\u001b[0mmsg\u001b[0m\u001b[0;34m.\u001b[0m\u001b[0mformat\u001b[0m\u001b[0;34m(\u001b[0m\u001b[0mname\u001b[0m\u001b[0;34m=\u001b[0m\u001b[0mtype\u001b[0m\u001b[0;34m(\u001b[0m\u001b[0mself\u001b[0m\u001b[0;34m)\u001b[0m\u001b[0;34m.\u001b[0m\u001b[0m__name__\u001b[0m\u001b[0;34m,\u001b[0m \u001b[0mdtype\u001b[0m\u001b[0;34m=\u001b[0m\u001b[0mdtype\u001b[0m\u001b[0;34m)\u001b[0m\u001b[0;34m)\u001b[0m\u001b[0;34m\u001b[0m\u001b[0;34m\u001b[0m\u001b[0m\n\u001b[0m\u001b[1;32m    856\u001b[0m \u001b[0;34m\u001b[0m\u001b[0m\n\u001b[1;32m    857\u001b[0m     _index_shared_docs[\n",
      "\u001b[0;31mTypeError\u001b[0m: Cannot cast Index to dtype <class 'int'>"
     ],
     "ename": "TypeError",
     "evalue": "Cannot cast Index to dtype <class 'int'>",
     "output_type": "error"
    }
   ],
   "source": [
    "# This is how it 'should' work but there seems to be a known bug in the read_csv function:\n",
    "# https://github.com/pandas-dev/pandas/issues/9435\n",
    "# df = pd.read_csv(\"ex28_data.csv\", header=0, index_col='RespondentID', dtype={'RespondentID': 'Int64'})\n",
    "\n",
    "# Workaround: Read CSV first, drop the NA rows, then set the index and change the dtype accordingly\n",
    "df = pd.read_csv(\"ex28_data.csv\", header=0, dtype={'RespondentID': 'Int64'})\n",
    "df.dropna(subset=['RespondentID'], inplace=True)\n",
    "df.set_index('RespondentID', inplace=True)\n",
    "df.index = df.index.astype(str).astype(int)"
   ],
   "metadata": {
    "collapsed": false,
    "pycharm": {
     "name": "#%%\n",
     "is_executing": false
    }
   }
  },
  {
   "cell_type": "code",
   "execution_count": 80,
   "outputs": [
    {
     "data": {
      "text/plain": "dtype('O')"
     },
     "metadata": {},
     "output_type": "execute_result",
     "execution_count": 80
    }
   ],
   "source": [
    "df.index.dtype"
   ],
   "metadata": {
    "collapsed": false,
    "pycharm": {
     "name": "#%%\n",
     "is_executing": false
    }
   }
  },
  {
   "cell_type": "markdown",
   "source": [
    "### b) The column names are too long. Change them to ['seen_any_film', 'fan_sw', 'seen_ep1',...,'seen_ep6', 'rank_ep1',..., 'rank_ep6', 'like_char1',...,'like_char14', 'first_shot', 'know_exp_univ', 'exp_univ_fan', 'fan_st', 'gender', 'age', 'h_income', 'education', 'location']. Use the first row (the second header line) to create a dictionary of film names with 'seen_ep1',...,'seen_ep6' as keys and to create a dictionary of character names with 'like_char1',...,'like_char14' as keys. Then drop that row from the data frame."
   ],
   "metadata": {
    "collapsed": false,
    "pycharm": {
     "name": "#%% md\n",
     "is_executing": false
    }
   }
  },
  {
   "cell_type": "code",
   "execution_count": 77,
   "outputs": [],
   "source": [
    "df.columns=['seen_any_film', 'fan_sw', 'seen_ep1', 'seen_ep2', 'seen_ep3', 'seen_ep4', 'seen_ep5', 'seen_ep6', 'rank_ep1', 'rank_ep2', 'rank_ep3', 'rank_ep4', 'rank_ep5', 'rank_ep6', 'like_char1', 'like_char2', 'like_char3', 'like_char4', 'like_char5', 'like_char6', 'like_char7', 'like_char8', 'like_char9', 'like_char10', 'like_char11', 'like_char12', 'like_char13', 'like_char14', 'first_shot', 'know_exp_univ', 'exp_univ_fan', 'fan_st', 'gender', 'age', 'h_income', 'education', 'location']"
   ],
   "metadata": {
    "collapsed": false,
    "pycharm": {
     "name": "#%%\n",
     "is_executing": false
    }
   }
  },
  {
   "cell_type": "code",
   "execution_count": 78,
   "outputs": [
    {
     "data": {
      "text/plain": "             seen_any_film fan_sw                                  seen_ep1  \\\nRespondentID                                                                  \n3292879998             Yes    Yes  Star Wars: Episode I  The Phantom Menace   \n3292879538              No    NaN                                       NaN   \n3292765271             Yes     No  Star Wars: Episode I  The Phantom Menace   \n3292763116             Yes    Yes  Star Wars: Episode I  The Phantom Menace   \n3292731220             Yes    Yes  Star Wars: Episode I  The Phantom Menace   \n\n                                                 seen_ep2  \\\nRespondentID                                                \n3292879998    Star Wars: Episode II  Attack of the Clones   \n3292879538                                            NaN   \n3292765271    Star Wars: Episode II  Attack of the Clones   \n3292763116    Star Wars: Episode II  Attack of the Clones   \n3292731220    Star Wars: Episode II  Attack of the Clones   \n\n                                                 seen_ep3  \\\nRespondentID                                                \n3292879998    Star Wars: Episode III  Revenge of the Sith   \n3292879538                                            NaN   \n3292765271    Star Wars: Episode III  Revenge of the Sith   \n3292763116    Star Wars: Episode III  Revenge of the Sith   \n3292731220    Star Wars: Episode III  Revenge of the Sith   \n\n                                       seen_ep4  \\\nRespondentID                                      \n3292879998    Star Wars: Episode IV  A New Hope   \n3292879538                                  NaN   \n3292765271                                  NaN   \n3292763116    Star Wars: Episode IV  A New Hope   \n3292731220    Star Wars: Episode IV  A New Hope   \n\n                                                  seen_ep5  \\\nRespondentID                                                 \n3292879998    Star Wars: Episode V The Empire Strikes Back   \n3292879538                                             NaN   \n3292765271                                             NaN   \n3292763116    Star Wars: Episode V The Empire Strikes Back   \n3292731220    Star Wars: Episode V The Empire Strikes Back   \n\n                                              seen_ep6 rank_ep1 rank_ep2  ...  \\\nRespondentID                                                              ...   \n3292879998    Star Wars: Episode VI Return of the Jedi        3        2  ...   \n3292879538                                         NaN      NaN      NaN  ...   \n3292765271                                         NaN        1        2  ...   \n3292763116    Star Wars: Episode VI Return of the Jedi        5        6  ...   \n3292731220    Star Wars: Episode VI Return of the Jedi        5        4  ...   \n\n                     like_char14                        first_shot  \\\nRespondentID                                                         \n3292879998        Very favorably  I don't understand this question   \n3292879538                   NaN                               NaN   \n3292765271      Unfamiliar (N/A)  I don't understand this question   \n3292763116        Very favorably  I don't understand this question   \n3292731220    Somewhat favorably                            Greedo   \n\n             know_exp_univ exp_univ_fan fan_st gender    age  \\\nRespondentID                                                   \n3292879998             Yes           No     No   Male  18-29   \n3292879538             NaN          NaN    Yes   Male  18-29   \n3292765271              No          NaN     No   Male  18-29   \n3292763116              No          NaN    Yes   Male  18-29   \n3292731220             Yes           No     No   Male  18-29   \n\n                         h_income                         education  \\\nRespondentID                                                          \n3292879998                    NaN                High school degree   \n3292879538           $0 - $24,999                   Bachelor degree   \n3292765271           $0 - $24,999                High school degree   \n3292763116    $100,000 - $149,999  Some college or Associate degree   \n3292731220    $100,000 - $149,999  Some college or Associate degree   \n\n                        location  \nRespondentID                      \n3292879998        South Atlantic  \n3292879538    West South Central  \n3292765271    West North Central  \n3292763116    West North Central  \n3292731220    West North Central  \n\n[5 rows x 37 columns]",
      "text/html": "<div>\n<style scoped>\n    .dataframe tbody tr th:only-of-type {\n        vertical-align: middle;\n    }\n\n    .dataframe tbody tr th {\n        vertical-align: top;\n    }\n\n    .dataframe thead th {\n        text-align: right;\n    }\n</style>\n<table border=\"1\" class=\"dataframe\">\n  <thead>\n    <tr style=\"text-align: right;\">\n      <th></th>\n      <th>seen_any_film</th>\n      <th>fan_sw</th>\n      <th>seen_ep1</th>\n      <th>seen_ep2</th>\n      <th>seen_ep3</th>\n      <th>seen_ep4</th>\n      <th>seen_ep5</th>\n      <th>seen_ep6</th>\n      <th>rank_ep1</th>\n      <th>rank_ep2</th>\n      <th>...</th>\n      <th>like_char14</th>\n      <th>first_shot</th>\n      <th>know_exp_univ</th>\n      <th>exp_univ_fan</th>\n      <th>fan_st</th>\n      <th>gender</th>\n      <th>age</th>\n      <th>h_income</th>\n      <th>education</th>\n      <th>location</th>\n    </tr>\n    <tr>\n      <th>RespondentID</th>\n      <th></th>\n      <th></th>\n      <th></th>\n      <th></th>\n      <th></th>\n      <th></th>\n      <th></th>\n      <th></th>\n      <th></th>\n      <th></th>\n      <th></th>\n      <th></th>\n      <th></th>\n      <th></th>\n      <th></th>\n      <th></th>\n      <th></th>\n      <th></th>\n      <th></th>\n      <th></th>\n      <th></th>\n    </tr>\n  </thead>\n  <tbody>\n    <tr>\n      <th>3292879998</th>\n      <td>Yes</td>\n      <td>Yes</td>\n      <td>Star Wars: Episode I  The Phantom Menace</td>\n      <td>Star Wars: Episode II  Attack of the Clones</td>\n      <td>Star Wars: Episode III  Revenge of the Sith</td>\n      <td>Star Wars: Episode IV  A New Hope</td>\n      <td>Star Wars: Episode V The Empire Strikes Back</td>\n      <td>Star Wars: Episode VI Return of the Jedi</td>\n      <td>3</td>\n      <td>2</td>\n      <td>...</td>\n      <td>Very favorably</td>\n      <td>I don't understand this question</td>\n      <td>Yes</td>\n      <td>No</td>\n      <td>No</td>\n      <td>Male</td>\n      <td>18-29</td>\n      <td>NaN</td>\n      <td>High school degree</td>\n      <td>South Atlantic</td>\n    </tr>\n    <tr>\n      <th>3292879538</th>\n      <td>No</td>\n      <td>NaN</td>\n      <td>NaN</td>\n      <td>NaN</td>\n      <td>NaN</td>\n      <td>NaN</td>\n      <td>NaN</td>\n      <td>NaN</td>\n      <td>NaN</td>\n      <td>NaN</td>\n      <td>...</td>\n      <td>NaN</td>\n      <td>NaN</td>\n      <td>NaN</td>\n      <td>NaN</td>\n      <td>Yes</td>\n      <td>Male</td>\n      <td>18-29</td>\n      <td>$0 - $24,999</td>\n      <td>Bachelor degree</td>\n      <td>West South Central</td>\n    </tr>\n    <tr>\n      <th>3292765271</th>\n      <td>Yes</td>\n      <td>No</td>\n      <td>Star Wars: Episode I  The Phantom Menace</td>\n      <td>Star Wars: Episode II  Attack of the Clones</td>\n      <td>Star Wars: Episode III  Revenge of the Sith</td>\n      <td>NaN</td>\n      <td>NaN</td>\n      <td>NaN</td>\n      <td>1</td>\n      <td>2</td>\n      <td>...</td>\n      <td>Unfamiliar (N/A)</td>\n      <td>I don't understand this question</td>\n      <td>No</td>\n      <td>NaN</td>\n      <td>No</td>\n      <td>Male</td>\n      <td>18-29</td>\n      <td>$0 - $24,999</td>\n      <td>High school degree</td>\n      <td>West North Central</td>\n    </tr>\n    <tr>\n      <th>3292763116</th>\n      <td>Yes</td>\n      <td>Yes</td>\n      <td>Star Wars: Episode I  The Phantom Menace</td>\n      <td>Star Wars: Episode II  Attack of the Clones</td>\n      <td>Star Wars: Episode III  Revenge of the Sith</td>\n      <td>Star Wars: Episode IV  A New Hope</td>\n      <td>Star Wars: Episode V The Empire Strikes Back</td>\n      <td>Star Wars: Episode VI Return of the Jedi</td>\n      <td>5</td>\n      <td>6</td>\n      <td>...</td>\n      <td>Very favorably</td>\n      <td>I don't understand this question</td>\n      <td>No</td>\n      <td>NaN</td>\n      <td>Yes</td>\n      <td>Male</td>\n      <td>18-29</td>\n      <td>$100,000 - $149,999</td>\n      <td>Some college or Associate degree</td>\n      <td>West North Central</td>\n    </tr>\n    <tr>\n      <th>3292731220</th>\n      <td>Yes</td>\n      <td>Yes</td>\n      <td>Star Wars: Episode I  The Phantom Menace</td>\n      <td>Star Wars: Episode II  Attack of the Clones</td>\n      <td>Star Wars: Episode III  Revenge of the Sith</td>\n      <td>Star Wars: Episode IV  A New Hope</td>\n      <td>Star Wars: Episode V The Empire Strikes Back</td>\n      <td>Star Wars: Episode VI Return of the Jedi</td>\n      <td>5</td>\n      <td>4</td>\n      <td>...</td>\n      <td>Somewhat favorably</td>\n      <td>Greedo</td>\n      <td>Yes</td>\n      <td>No</td>\n      <td>No</td>\n      <td>Male</td>\n      <td>18-29</td>\n      <td>$100,000 - $149,999</td>\n      <td>Some college or Associate degree</td>\n      <td>West North Central</td>\n    </tr>\n  </tbody>\n</table>\n<p>5 rows × 37 columns</p>\n</div>"
     },
     "metadata": {},
     "output_type": "execute_result",
     "execution_count": 78
    }
   ],
   "source": [
    "df.head()"
   ],
   "metadata": {
    "collapsed": false,
    "pycharm": {
     "name": "#%%\n",
     "is_executing": false
    }
   }
  },
  {
   "cell_type": "code",
   "execution_count": null,
   "outputs": [],
   "source": [
    "\n"
   ],
   "metadata": {
    "collapsed": false,
    "pycharm": {
     "name": "#%%\n"
    }
   }
  }
 ],
 "metadata": {
  "kernelspec": {
   "display_name": "Python 3",
   "language": "python",
   "name": "python3"
  },
  "language_info": {
   "codemirror_mode": {
    "name": "ipython",
    "version": 2
   },
   "file_extension": ".py",
   "mimetype": "text/x-python",
   "name": "python",
   "nbconvert_exporter": "python",
   "pygments_lexer": "ipython2",
   "version": "2.7.6"
  },
  "pycharm": {
   "stem_cell": {
    "cell_type": "raw",
    "source": [],
    "metadata": {
     "collapsed": false
    }
   }
  }
 },
 "nbformat": 4,
 "nbformat_minor": 0
}