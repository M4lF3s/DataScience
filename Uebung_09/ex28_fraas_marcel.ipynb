{
 "cells": [
  {
   "cell_type": "code",
   "execution_count": 217,
   "metadata": {
    "collapsed": true,
    "pycharm": {
     "is_executing": false
    }
   },
   "outputs": [],
   "source": [
    "import pandas as pd"
   ]
  },
  {
   "cell_type": "markdown",
   "source": [
    "### a) Import the csv file with only the first line as header and with the first column being the index. (Treat the second header line as data for now.) Make sure the index column (“RespondentID”) is of type 'Int64'."
   ],
   "metadata": {
    "collapsed": false,
    "pycharm": {
     "name": "#%% md\n"
    }
   }
  },
  {
   "cell_type": "code",
   "execution_count": 218,
   "outputs": [],
   "source": [
    "# This is how it 'should' work but there seems to be a known bug in the read_csv function:\n",
    "# https://github.com/pandas-dev/pandas/issues/9435\n",
    "# df = pd.read_csv(\"ex28_data.csv\", header=0, index_col='RespondentID', dtype={'RespondentID': 'int64'})\n",
    "\n",
    "# Workaround: Read CSV first, then fill the NA Value with an int\n",
    "df = pd.read_csv(\"ex28_data.csv\", header=0, index_col='RespondentID')\n",
    "df.index = df.index.fillna(0)\n",
    "df.index = df.index.astype('int64')"
   ],
   "metadata": {
    "collapsed": false,
    "pycharm": {
     "name": "#%%\n",
     "is_executing": false
    }
   }
  },
  {
   "cell_type": "code",
   "execution_count": 219,
   "outputs": [
    {
     "data": {
      "text/plain": "dtype('int64')"
     },
     "metadata": {},
     "output_type": "execute_result",
     "execution_count": 219
    }
   ],
   "source": [
    "df.index.dtype"
   ],
   "metadata": {
    "collapsed": false,
    "pycharm": {
     "name": "#%%\n",
     "is_executing": false
    }
   }
  },
  {
   "cell_type": "markdown",
   "source": [
    "### b) The column names are too long. Change them to ['seen_any_film', 'fan_sw', 'seen_ep1',...,'seen_ep6', 'rank_ep1',..., 'rank_ep6', 'like_char1',...,'like_char14', 'first_shot', 'know_exp_univ', 'exp_univ_fan', 'fan_st', 'gender', 'age', 'h_income', 'education', 'location']. Use the first row (the second header line) to create a dictionary of film names with 'seen_ep1',...,'seen_ep6' as keys and to create a dictionary of character names with 'like_char1',...,'like_char14' as keys. Then drop that row from the data frame."
   ],
   "metadata": {
    "collapsed": false,
    "pycharm": {
     "name": "#%% md\n",
     "is_executing": false
    }
   }
  },
  {
   "cell_type": "code",
   "execution_count": 220,
   "outputs": [],
   "source": [
    "df.columns=['seen_any_film', 'fan_sw', 'seen_ep1', 'seen_ep2', 'seen_ep3', 'seen_ep4', 'seen_ep5', 'seen_ep6', 'rank_ep1', 'rank_ep2', 'rank_ep3', 'rank_ep4', 'rank_ep5', 'rank_ep6', 'like_char1', 'like_char2', 'like_char3', 'like_char4', 'like_char5', 'like_char6', 'like_char7', 'like_char8', 'like_char9', 'like_char10', 'like_char11', 'like_char12', 'like_char13', 'like_char14', 'first_shot', 'know_exp_univ', 'exp_univ_fan', 'fan_st', 'gender', 'age', 'h_income', 'education', 'location']\n",
    "films = df[['seen_ep1', 'seen_ep2', 'seen_ep3', 'seen_ep4', 'seen_ep5', 'seen_ep6']].iloc[0].to_dict()\n",
    "chars = df[['like_char1', 'like_char2', 'like_char3', 'like_char4', 'like_char5', 'like_char6', 'like_char7', 'like_char8', 'like_char9', 'like_char10', 'like_char11', 'like_char12', 'like_char13', 'like_char14']].iloc[0].to_dict()\n",
    "df.drop(index=0, inplace=True)"
   ],
   "metadata": {
    "collapsed": false,
    "pycharm": {
     "name": "#%%\n",
     "is_executing": false
    }
   }
  },
  {
   "cell_type": "code",
   "execution_count": 221,
   "outputs": [
    {
     "name": "stdout",
     "text": [
      "Films Dictionary: {'seen_ep1': 'Star Wars: Episode I  The Phantom Menace', 'seen_ep2': 'Star Wars: Episode II  Attack of the Clones', 'seen_ep3': 'Star Wars: Episode III  Revenge of the Sith', 'seen_ep4': 'Star Wars: Episode IV  A New Hope', 'seen_ep5': 'Star Wars: Episode V The Empire Strikes Back', 'seen_ep6': 'Star Wars: Episode VI Return of the Jedi'}\n",
      "Characters Dictionary: {'like_char1': 'Han Solo', 'like_char2': 'Luke Skywalker', 'like_char3': 'Princess Leia Organa', 'like_char4': 'Anakin Skywalker', 'like_char5': 'Obi Wan Kenobi', 'like_char6': 'Emperor Palpatine', 'like_char7': 'Darth Vader', 'like_char8': 'Lando Calrissian', 'like_char9': 'Boba Fett', 'like_char10': 'C-3P0', 'like_char11': 'R2 D2', 'like_char12': 'Jar Jar Binks', 'like_char13': 'Padme Amidala', 'like_char14': 'Yoda'}\n"
     ],
     "output_type": "stream"
    },
    {
     "data": {
      "text/plain": "             seen_any_film fan_sw                                  seen_ep1  \\\nRespondentID                                                                  \n3292879998             Yes    Yes  Star Wars: Episode I  The Phantom Menace   \n3292879538              No    NaN                                       NaN   \n3292765271             Yes     No  Star Wars: Episode I  The Phantom Menace   \n3292763116             Yes    Yes  Star Wars: Episode I  The Phantom Menace   \n3292731220             Yes    Yes  Star Wars: Episode I  The Phantom Menace   \n\n                                                 seen_ep2  \\\nRespondentID                                                \n3292879998    Star Wars: Episode II  Attack of the Clones   \n3292879538                                            NaN   \n3292765271    Star Wars: Episode II  Attack of the Clones   \n3292763116    Star Wars: Episode II  Attack of the Clones   \n3292731220    Star Wars: Episode II  Attack of the Clones   \n\n                                                 seen_ep3  \\\nRespondentID                                                \n3292879998    Star Wars: Episode III  Revenge of the Sith   \n3292879538                                            NaN   \n3292765271    Star Wars: Episode III  Revenge of the Sith   \n3292763116    Star Wars: Episode III  Revenge of the Sith   \n3292731220    Star Wars: Episode III  Revenge of the Sith   \n\n                                       seen_ep4  \\\nRespondentID                                      \n3292879998    Star Wars: Episode IV  A New Hope   \n3292879538                                  NaN   \n3292765271                                  NaN   \n3292763116    Star Wars: Episode IV  A New Hope   \n3292731220    Star Wars: Episode IV  A New Hope   \n\n                                                  seen_ep5  \\\nRespondentID                                                 \n3292879998    Star Wars: Episode V The Empire Strikes Back   \n3292879538                                             NaN   \n3292765271                                             NaN   \n3292763116    Star Wars: Episode V The Empire Strikes Back   \n3292731220    Star Wars: Episode V The Empire Strikes Back   \n\n                                              seen_ep6 rank_ep1 rank_ep2  ...  \\\nRespondentID                                                              ...   \n3292879998    Star Wars: Episode VI Return of the Jedi        3        2  ...   \n3292879538                                         NaN      NaN      NaN  ...   \n3292765271                                         NaN        1        2  ...   \n3292763116    Star Wars: Episode VI Return of the Jedi        5        6  ...   \n3292731220    Star Wars: Episode VI Return of the Jedi        5        4  ...   \n\n                     like_char14                        first_shot  \\\nRespondentID                                                         \n3292879998        Very favorably  I don't understand this question   \n3292879538                   NaN                               NaN   \n3292765271      Unfamiliar (N/A)  I don't understand this question   \n3292763116        Very favorably  I don't understand this question   \n3292731220    Somewhat favorably                            Greedo   \n\n             know_exp_univ exp_univ_fan fan_st gender    age  \\\nRespondentID                                                   \n3292879998             Yes           No     No   Male  18-29   \n3292879538             NaN          NaN    Yes   Male  18-29   \n3292765271              No          NaN     No   Male  18-29   \n3292763116              No          NaN    Yes   Male  18-29   \n3292731220             Yes           No     No   Male  18-29   \n\n                         h_income                         education  \\\nRespondentID                                                          \n3292879998                    NaN                High school degree   \n3292879538           $0 - $24,999                   Bachelor degree   \n3292765271           $0 - $24,999                High school degree   \n3292763116    $100,000 - $149,999  Some college or Associate degree   \n3292731220    $100,000 - $149,999  Some college or Associate degree   \n\n                        location  \nRespondentID                      \n3292879998        South Atlantic  \n3292879538    West South Central  \n3292765271    West North Central  \n3292763116    West North Central  \n3292731220    West North Central  \n\n[5 rows x 37 columns]",
      "text/html": "<div>\n<style scoped>\n    .dataframe tbody tr th:only-of-type {\n        vertical-align: middle;\n    }\n\n    .dataframe tbody tr th {\n        vertical-align: top;\n    }\n\n    .dataframe thead th {\n        text-align: right;\n    }\n</style>\n<table border=\"1\" class=\"dataframe\">\n  <thead>\n    <tr style=\"text-align: right;\">\n      <th></th>\n      <th>seen_any_film</th>\n      <th>fan_sw</th>\n      <th>seen_ep1</th>\n      <th>seen_ep2</th>\n      <th>seen_ep3</th>\n      <th>seen_ep4</th>\n      <th>seen_ep5</th>\n      <th>seen_ep6</th>\n      <th>rank_ep1</th>\n      <th>rank_ep2</th>\n      <th>...</th>\n      <th>like_char14</th>\n      <th>first_shot</th>\n      <th>know_exp_univ</th>\n      <th>exp_univ_fan</th>\n      <th>fan_st</th>\n      <th>gender</th>\n      <th>age</th>\n      <th>h_income</th>\n      <th>education</th>\n      <th>location</th>\n    </tr>\n    <tr>\n      <th>RespondentID</th>\n      <th></th>\n      <th></th>\n      <th></th>\n      <th></th>\n      <th></th>\n      <th></th>\n      <th></th>\n      <th></th>\n      <th></th>\n      <th></th>\n      <th></th>\n      <th></th>\n      <th></th>\n      <th></th>\n      <th></th>\n      <th></th>\n      <th></th>\n      <th></th>\n      <th></th>\n      <th></th>\n      <th></th>\n    </tr>\n  </thead>\n  <tbody>\n    <tr>\n      <th>3292879998</th>\n      <td>Yes</td>\n      <td>Yes</td>\n      <td>Star Wars: Episode I  The Phantom Menace</td>\n      <td>Star Wars: Episode II  Attack of the Clones</td>\n      <td>Star Wars: Episode III  Revenge of the Sith</td>\n      <td>Star Wars: Episode IV  A New Hope</td>\n      <td>Star Wars: Episode V The Empire Strikes Back</td>\n      <td>Star Wars: Episode VI Return of the Jedi</td>\n      <td>3</td>\n      <td>2</td>\n      <td>...</td>\n      <td>Very favorably</td>\n      <td>I don't understand this question</td>\n      <td>Yes</td>\n      <td>No</td>\n      <td>No</td>\n      <td>Male</td>\n      <td>18-29</td>\n      <td>NaN</td>\n      <td>High school degree</td>\n      <td>South Atlantic</td>\n    </tr>\n    <tr>\n      <th>3292879538</th>\n      <td>No</td>\n      <td>NaN</td>\n      <td>NaN</td>\n      <td>NaN</td>\n      <td>NaN</td>\n      <td>NaN</td>\n      <td>NaN</td>\n      <td>NaN</td>\n      <td>NaN</td>\n      <td>NaN</td>\n      <td>...</td>\n      <td>NaN</td>\n      <td>NaN</td>\n      <td>NaN</td>\n      <td>NaN</td>\n      <td>Yes</td>\n      <td>Male</td>\n      <td>18-29</td>\n      <td>$0 - $24,999</td>\n      <td>Bachelor degree</td>\n      <td>West South Central</td>\n    </tr>\n    <tr>\n      <th>3292765271</th>\n      <td>Yes</td>\n      <td>No</td>\n      <td>Star Wars: Episode I  The Phantom Menace</td>\n      <td>Star Wars: Episode II  Attack of the Clones</td>\n      <td>Star Wars: Episode III  Revenge of the Sith</td>\n      <td>NaN</td>\n      <td>NaN</td>\n      <td>NaN</td>\n      <td>1</td>\n      <td>2</td>\n      <td>...</td>\n      <td>Unfamiliar (N/A)</td>\n      <td>I don't understand this question</td>\n      <td>No</td>\n      <td>NaN</td>\n      <td>No</td>\n      <td>Male</td>\n      <td>18-29</td>\n      <td>$0 - $24,999</td>\n      <td>High school degree</td>\n      <td>West North Central</td>\n    </tr>\n    <tr>\n      <th>3292763116</th>\n      <td>Yes</td>\n      <td>Yes</td>\n      <td>Star Wars: Episode I  The Phantom Menace</td>\n      <td>Star Wars: Episode II  Attack of the Clones</td>\n      <td>Star Wars: Episode III  Revenge of the Sith</td>\n      <td>Star Wars: Episode IV  A New Hope</td>\n      <td>Star Wars: Episode V The Empire Strikes Back</td>\n      <td>Star Wars: Episode VI Return of the Jedi</td>\n      <td>5</td>\n      <td>6</td>\n      <td>...</td>\n      <td>Very favorably</td>\n      <td>I don't understand this question</td>\n      <td>No</td>\n      <td>NaN</td>\n      <td>Yes</td>\n      <td>Male</td>\n      <td>18-29</td>\n      <td>$100,000 - $149,999</td>\n      <td>Some college or Associate degree</td>\n      <td>West North Central</td>\n    </tr>\n    <tr>\n      <th>3292731220</th>\n      <td>Yes</td>\n      <td>Yes</td>\n      <td>Star Wars: Episode I  The Phantom Menace</td>\n      <td>Star Wars: Episode II  Attack of the Clones</td>\n      <td>Star Wars: Episode III  Revenge of the Sith</td>\n      <td>Star Wars: Episode IV  A New Hope</td>\n      <td>Star Wars: Episode V The Empire Strikes Back</td>\n      <td>Star Wars: Episode VI Return of the Jedi</td>\n      <td>5</td>\n      <td>4</td>\n      <td>...</td>\n      <td>Somewhat favorably</td>\n      <td>Greedo</td>\n      <td>Yes</td>\n      <td>No</td>\n      <td>No</td>\n      <td>Male</td>\n      <td>18-29</td>\n      <td>$100,000 - $149,999</td>\n      <td>Some college or Associate degree</td>\n      <td>West North Central</td>\n    </tr>\n  </tbody>\n</table>\n<p>5 rows × 37 columns</p>\n</div>"
     },
     "metadata": {},
     "output_type": "execute_result",
     "execution_count": 221
    }
   ],
   "source": [
    "print(f'Films Dictionary: {films}')\n",
    "print(f'Characters Dictionary: {chars}')\n",
    "df.head()"
   ],
   "metadata": {
    "collapsed": false,
    "pycharm": {
     "name": "#%%\n",
     "is_executing": false
    }
   }
  },
  {
   "cell_type": "markdown",
   "source": [
    "### c) In the columns that belong to the question “Which of the following Star Wars films have you seen? Please select all that apply.”, the data entries contain the respective title in case the respondent has seen this film and are empty otherwise. Replace these values with “Yes” or “No”, depending on whether the respondent has seen the respective film."
   ],
   "metadata": {
    "collapsed": false,
    "pycharm": {
     "name": "#%% md\n",
     "is_executing": false
    }
   }
  },
  {
   "cell_type": "code",
   "execution_count": 222,
   "outputs": [],
   "source": [
    "# Fancy Nested-List-Comprehension:\n",
    "# For each row iterate over the columns 'seen_epX' and check if the value is equal to the film title in the Films-Dictionary\n",
    "# in that case change the value in the current cell to 'Yes' otherwise to 'No'\n",
    "df[['seen_ep1', 'seen_ep2', 'seen_ep3', 'seen_ep4', 'seen_ep5', 'seen_ep6']]=[\n",
    "    ['Yes' if films[col] is row[col] else 'No' for col in df[['seen_ep1', 'seen_ep2', 'seen_ep3', 'seen_ep4', 'seen_ep5', 'seen_ep6']].columns]\n",
    "    for index, row in df[['seen_ep1', 'seen_ep2', 'seen_ep3', 'seen_ep4', 'seen_ep5', 'seen_ep6']].iterrows()\n",
    "]"
   ],
   "metadata": {
    "collapsed": false,
    "pycharm": {
     "name": "#%%\n",
     "is_executing": false
    }
   }
  },
  {
   "cell_type": "code",
   "execution_count": 223,
   "outputs": [
    {
     "data": {
      "text/plain": "             seen_any_film fan_sw seen_ep1 seen_ep2 seen_ep3 seen_ep4  \\\nRespondentID                                                            \n3292879998             Yes    Yes      Yes      Yes      Yes      Yes   \n3292879538              No    NaN       No       No       No       No   \n3292765271             Yes     No      Yes      Yes      Yes       No   \n3292763116             Yes    Yes      Yes      Yes      Yes      Yes   \n3292731220             Yes    Yes      Yes      Yes      Yes      Yes   \n\n             seen_ep5 seen_ep6 rank_ep1 rank_ep2  ...         like_char14  \\\nRespondentID                                      ...                       \n3292879998        Yes      Yes        3        2  ...      Very favorably   \n3292879538         No       No      NaN      NaN  ...                 NaN   \n3292765271         No       No        1        2  ...    Unfamiliar (N/A)   \n3292763116        Yes      Yes        5        6  ...      Very favorably   \n3292731220        Yes      Yes        5        4  ...  Somewhat favorably   \n\n                                    first_shot know_exp_univ exp_univ_fan  \\\nRespondentID                                                                \n3292879998    I don't understand this question           Yes           No   \n3292879538                                 NaN           NaN          NaN   \n3292765271    I don't understand this question            No          NaN   \n3292763116    I don't understand this question            No          NaN   \n3292731220                              Greedo           Yes           No   \n\n             fan_st gender    age             h_income  \\\nRespondentID                                             \n3292879998       No   Male  18-29                  NaN   \n3292879538      Yes   Male  18-29         $0 - $24,999   \n3292765271       No   Male  18-29         $0 - $24,999   \n3292763116      Yes   Male  18-29  $100,000 - $149,999   \n3292731220       No   Male  18-29  $100,000 - $149,999   \n\n                                     education            location  \nRespondentID                                                        \n3292879998                  High school degree      South Atlantic  \n3292879538                     Bachelor degree  West South Central  \n3292765271                  High school degree  West North Central  \n3292763116    Some college or Associate degree  West North Central  \n3292731220    Some college or Associate degree  West North Central  \n\n[5 rows x 37 columns]",
      "text/html": "<div>\n<style scoped>\n    .dataframe tbody tr th:only-of-type {\n        vertical-align: middle;\n    }\n\n    .dataframe tbody tr th {\n        vertical-align: top;\n    }\n\n    .dataframe thead th {\n        text-align: right;\n    }\n</style>\n<table border=\"1\" class=\"dataframe\">\n  <thead>\n    <tr style=\"text-align: right;\">\n      <th></th>\n      <th>seen_any_film</th>\n      <th>fan_sw</th>\n      <th>seen_ep1</th>\n      <th>seen_ep2</th>\n      <th>seen_ep3</th>\n      <th>seen_ep4</th>\n      <th>seen_ep5</th>\n      <th>seen_ep6</th>\n      <th>rank_ep1</th>\n      <th>rank_ep2</th>\n      <th>...</th>\n      <th>like_char14</th>\n      <th>first_shot</th>\n      <th>know_exp_univ</th>\n      <th>exp_univ_fan</th>\n      <th>fan_st</th>\n      <th>gender</th>\n      <th>age</th>\n      <th>h_income</th>\n      <th>education</th>\n      <th>location</th>\n    </tr>\n    <tr>\n      <th>RespondentID</th>\n      <th></th>\n      <th></th>\n      <th></th>\n      <th></th>\n      <th></th>\n      <th></th>\n      <th></th>\n      <th></th>\n      <th></th>\n      <th></th>\n      <th></th>\n      <th></th>\n      <th></th>\n      <th></th>\n      <th></th>\n      <th></th>\n      <th></th>\n      <th></th>\n      <th></th>\n      <th></th>\n      <th></th>\n    </tr>\n  </thead>\n  <tbody>\n    <tr>\n      <th>3292879998</th>\n      <td>Yes</td>\n      <td>Yes</td>\n      <td>Yes</td>\n      <td>Yes</td>\n      <td>Yes</td>\n      <td>Yes</td>\n      <td>Yes</td>\n      <td>Yes</td>\n      <td>3</td>\n      <td>2</td>\n      <td>...</td>\n      <td>Very favorably</td>\n      <td>I don't understand this question</td>\n      <td>Yes</td>\n      <td>No</td>\n      <td>No</td>\n      <td>Male</td>\n      <td>18-29</td>\n      <td>NaN</td>\n      <td>High school degree</td>\n      <td>South Atlantic</td>\n    </tr>\n    <tr>\n      <th>3292879538</th>\n      <td>No</td>\n      <td>NaN</td>\n      <td>No</td>\n      <td>No</td>\n      <td>No</td>\n      <td>No</td>\n      <td>No</td>\n      <td>No</td>\n      <td>NaN</td>\n      <td>NaN</td>\n      <td>...</td>\n      <td>NaN</td>\n      <td>NaN</td>\n      <td>NaN</td>\n      <td>NaN</td>\n      <td>Yes</td>\n      <td>Male</td>\n      <td>18-29</td>\n      <td>$0 - $24,999</td>\n      <td>Bachelor degree</td>\n      <td>West South Central</td>\n    </tr>\n    <tr>\n      <th>3292765271</th>\n      <td>Yes</td>\n      <td>No</td>\n      <td>Yes</td>\n      <td>Yes</td>\n      <td>Yes</td>\n      <td>No</td>\n      <td>No</td>\n      <td>No</td>\n      <td>1</td>\n      <td>2</td>\n      <td>...</td>\n      <td>Unfamiliar (N/A)</td>\n      <td>I don't understand this question</td>\n      <td>No</td>\n      <td>NaN</td>\n      <td>No</td>\n      <td>Male</td>\n      <td>18-29</td>\n      <td>$0 - $24,999</td>\n      <td>High school degree</td>\n      <td>West North Central</td>\n    </tr>\n    <tr>\n      <th>3292763116</th>\n      <td>Yes</td>\n      <td>Yes</td>\n      <td>Yes</td>\n      <td>Yes</td>\n      <td>Yes</td>\n      <td>Yes</td>\n      <td>Yes</td>\n      <td>Yes</td>\n      <td>5</td>\n      <td>6</td>\n      <td>...</td>\n      <td>Very favorably</td>\n      <td>I don't understand this question</td>\n      <td>No</td>\n      <td>NaN</td>\n      <td>Yes</td>\n      <td>Male</td>\n      <td>18-29</td>\n      <td>$100,000 - $149,999</td>\n      <td>Some college or Associate degree</td>\n      <td>West North Central</td>\n    </tr>\n    <tr>\n      <th>3292731220</th>\n      <td>Yes</td>\n      <td>Yes</td>\n      <td>Yes</td>\n      <td>Yes</td>\n      <td>Yes</td>\n      <td>Yes</td>\n      <td>Yes</td>\n      <td>Yes</td>\n      <td>5</td>\n      <td>4</td>\n      <td>...</td>\n      <td>Somewhat favorably</td>\n      <td>Greedo</td>\n      <td>Yes</td>\n      <td>No</td>\n      <td>No</td>\n      <td>Male</td>\n      <td>18-29</td>\n      <td>$100,000 - $149,999</td>\n      <td>Some college or Associate degree</td>\n      <td>West North Central</td>\n    </tr>\n  </tbody>\n</table>\n<p>5 rows × 37 columns</p>\n</div>"
     },
     "metadata": {},
     "output_type": "execute_result",
     "execution_count": 223
    }
   ],
   "source": [
    "df.head()"
   ],
   "metadata": {
    "collapsed": false,
    "pycharm": {
     "name": "#%%\n",
     "is_executing": false
    }
   }
  },
  {
   "cell_type": "markdown",
   "source": [
    "### d) In the columns that belong to the question “Please state whether you view the following characters favorably, unfavorably, or are unfamiliar with him/her.”, replace the entries “Very unfavorably” by -2, “Somewhat unfavorably” by -1, “Neither favorably nor unfavorably (neutral)” by 0, “Somewhat favorably” by 1, and “Very favorably” by 2. (All numbers are integer values, not strings.) Leave the other entries in these columns as they are."
   ],
   "metadata": {
    "collapsed": false,
    "pycharm": {
     "name": "#%% md\n",
     "is_executing": false
    }
   }
  },
  {
   "cell_type": "code",
   "execution_count": 224,
   "outputs": [],
   "source": [
    "# Even more fancy Nested-List-Comprehension:\n",
    "# Same Procedure as above -> get every row as series, then iterate over the columns and replace values based on the\n",
    "# if-statements\n",
    "df[['like_char1', 'like_char2', 'like_char3', 'like_char4', 'like_char5', 'like_char6', 'like_char7', 'like_char8', 'like_char9', 'like_char10', 'like_char11', 'like_char12', 'like_char13', 'like_char14']] = [\n",
    "    [-2 if str(row[col]) == 'Very unfavorably' else \n",
    "     -1 if str(row[col]) == 'Somewhat unfavorably' else\n",
    "      0 if str(row[col]) == 'Neither favorably nor unfavorably (neutral)' else\n",
    "      1 if str(row[col]) == 'Somewhat favorably' else\n",
    "      2 if str(row[col]) == 'Very favorably' else\n",
    "      row[col]\n",
    "    for col in df[['like_char1', 'like_char2', 'like_char3', 'like_char4', 'like_char5', 'like_char6', 'like_char7', 'like_char8', 'like_char9', 'like_char10', 'like_char11', 'like_char12', 'like_char13', 'like_char14']].columns]\n",
    "    for index, row in df[['like_char1', 'like_char2', 'like_char3', 'like_char4', 'like_char5', 'like_char6', 'like_char7', 'like_char8', 'like_char9', 'like_char10', 'like_char11', 'like_char12', 'like_char13', 'like_char14']].iterrows()\n",
    "]"
   ],
   "metadata": {
    "collapsed": false,
    "pycharm": {
     "name": "#%%\n",
     "is_executing": false
    }
   }
  },
  {
   "cell_type": "code",
   "execution_count": 225,
   "outputs": [
    {
     "data": {
      "text/plain": "             like_char1 like_char2 like_char3 like_char4 like_char5  \\\nRespondentID                                                          \n3292879998            2          2          2          2          2   \n3292879538          NaN        NaN        NaN        NaN        NaN   \n3292765271            1          1          1          1          1   \n3292763116            2          2          2          2          2   \n3292731220            2          1          1         -1          2   \n\n                    like_char6        like_char7  \nRespondentID                                      \n3292879998                   2                 2  \n3292879538                 NaN               NaN  \n3292765271    Unfamiliar (N/A)  Unfamiliar (N/A)  \n3292763116                   1                 2  \n3292731220                  -2                 1  ",
      "text/html": "<div>\n<style scoped>\n    .dataframe tbody tr th:only-of-type {\n        vertical-align: middle;\n    }\n\n    .dataframe tbody tr th {\n        vertical-align: top;\n    }\n\n    .dataframe thead th {\n        text-align: right;\n    }\n</style>\n<table border=\"1\" class=\"dataframe\">\n  <thead>\n    <tr style=\"text-align: right;\">\n      <th></th>\n      <th>like_char1</th>\n      <th>like_char2</th>\n      <th>like_char3</th>\n      <th>like_char4</th>\n      <th>like_char5</th>\n      <th>like_char6</th>\n      <th>like_char7</th>\n    </tr>\n    <tr>\n      <th>RespondentID</th>\n      <th></th>\n      <th></th>\n      <th></th>\n      <th></th>\n      <th></th>\n      <th></th>\n      <th></th>\n    </tr>\n  </thead>\n  <tbody>\n    <tr>\n      <th>3292879998</th>\n      <td>2</td>\n      <td>2</td>\n      <td>2</td>\n      <td>2</td>\n      <td>2</td>\n      <td>2</td>\n      <td>2</td>\n    </tr>\n    <tr>\n      <th>3292879538</th>\n      <td>NaN</td>\n      <td>NaN</td>\n      <td>NaN</td>\n      <td>NaN</td>\n      <td>NaN</td>\n      <td>NaN</td>\n      <td>NaN</td>\n    </tr>\n    <tr>\n      <th>3292765271</th>\n      <td>1</td>\n      <td>1</td>\n      <td>1</td>\n      <td>1</td>\n      <td>1</td>\n      <td>Unfamiliar (N/A)</td>\n      <td>Unfamiliar (N/A)</td>\n    </tr>\n    <tr>\n      <th>3292763116</th>\n      <td>2</td>\n      <td>2</td>\n      <td>2</td>\n      <td>2</td>\n      <td>2</td>\n      <td>1</td>\n      <td>2</td>\n    </tr>\n    <tr>\n      <th>3292731220</th>\n      <td>2</td>\n      <td>1</td>\n      <td>1</td>\n      <td>-1</td>\n      <td>2</td>\n      <td>-2</td>\n      <td>1</td>\n    </tr>\n  </tbody>\n</table>\n</div>"
     },
     "metadata": {},
     "output_type": "execute_result",
     "execution_count": 225
    }
   ],
   "source": [
    "df[['like_char1', 'like_char2', 'like_char3', 'like_char4', 'like_char5', 'like_char6', 'like_char7']].head()\n"
   ],
   "metadata": {
    "collapsed": false,
    "pycharm": {
     "name": "#%%\n",
     "is_executing": false
    }
   }
  },
  {
   "cell_type": "markdown",
   "source": [
    "### e) How many respondents are in the data set? How many are male, how many are female?"
   ],
   "metadata": {
    "collapsed": false,
    "pycharm": {
     "name": "#%% md\n",
     "is_executing": false
    }
   }
  },
  {
   "cell_type": "code",
   "execution_count": 226,
   "outputs": [
    {
     "name": "stdout",
     "text": [
      "Respondents: 1186\n",
      "NA Values: 140\n"
     ],
     "output_type": "stream"
    },
    {
     "data": {
      "text/plain": "Female    549\nMale      497\nName: gender, dtype: int64"
     },
     "metadata": {},
     "output_type": "execute_result",
     "execution_count": 226
    }
   ],
   "source": [
    "print(f'Respondents: {df.index.nunique()}')\n",
    "print(f'NA Values: {df[\"gender\"].isna().sum()}')\n",
    "df[\"gender\"].value_counts()\n",
    "\n"
   ],
   "metadata": {
    "collapsed": false,
    "pycharm": {
     "name": "#%%\n",
     "is_executing": false
    }
   }
  }
 ],
 "metadata": {
  "kernelspec": {
   "display_name": "Python 3",
   "language": "python",
   "name": "python3"
  },
  "language_info": {
   "codemirror_mode": {
    "name": "ipython",
    "version": 2
   },
   "file_extension": ".py",
   "mimetype": "text/x-python",
   "name": "python",
   "nbconvert_exporter": "python",
   "pygments_lexer": "ipython2",
   "version": "2.7.6"
  },
  "pycharm": {
   "stem_cell": {
    "cell_type": "raw",
    "source": [],
    "metadata": {
     "collapsed": false
    }
   }
  }
 },
 "nbformat": 4,
 "nbformat_minor": 0
}