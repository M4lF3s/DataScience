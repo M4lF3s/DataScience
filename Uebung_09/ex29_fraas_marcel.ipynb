{
 "cells": [
  {
   "cell_type": "code",
   "execution_count": 1,
   "metadata": {
    "collapsed": true,
    "pycharm": {
     "is_executing": false
    }
   },
   "outputs": [],
   "source": [
    "import pandas as pd"
   ]
  },
  {
   "cell_type": "markdown",
   "source": [
    "### Import the associated csv file with the first column as index of type 'Int64' and answer the following questions using Python commands. Do not change anything in the csv file."
   ],
   "metadata": {
    "collapsed": false,
    "pycharm": {
     "name": "#%% md\n"
    }
   }
  },
  {
   "cell_type": "code",
   "execution_count": 6,
   "outputs": [
    {
     "data": {
      "text/plain": "dtype('int64')"
     },
     "metadata": {},
     "output_type": "execute_result",
     "execution_count": 6
    }
   ],
   "source": [
    "df = pd.read_csv(\"ex29_data.csv\", header=0, index_col='RespondentID')\n",
    "df.index = df.index.astype('int64')\n",
    "df.index.dtype"
   ],
   "metadata": {
    "collapsed": false,
    "pycharm": {
     "name": "#%%\n",
     "is_executing": false
    }
   }
  },
  {
   "cell_type": "markdown",
   "source": [
    "### a) What percentage is neither a fan of the Star Wars franchise nor of the Star Trek franchise?"
   ],
   "metadata": {
    "collapsed": false,
    "pycharm": {
     "name": "#%% md\n",
     "is_executing": false
    }
   }
  },
  {
   "cell_type": "code",
   "execution_count": 33,
   "outputs": [
    {
     "data": {
      "text/plain": "20.06745362563238"
     },
     "metadata": {},
     "output_type": "execute_result",
     "execution_count": 33
    }
   ],
   "source": [
    "all = df.index.nunique()\n",
    "df.loc[(df['fan_sw'] == 'No') & (df['fan_st'] == 'No')].count().max() / all * 100"
   ],
   "metadata": {
    "collapsed": false,
    "pycharm": {
     "name": "#%%\n",
     "is_executing": false
    }
   }
  },
  {
   "cell_type": "markdown",
   "source": [
    "### b) Plot a histogram of the age of all respondents who have seen at least one Star Wars film. Plot a histogram of the age of all respondents who have seen all of the latter episodes (IV to VI) but none of the first three (I to III). What observation do you make?"
   ],
   "metadata": {
    "collapsed": false,
    "pycharm": {
     "name": "#%% md\n"
    }
   }
  },
  {
   "cell_type": "code",
   "execution_count": 21,
   "outputs": [
    {
     "data": {
      "text/plain": "<matplotlib.axes._subplots.AxesSubplot at 0x7fd61e14c0b8>"
     },
     "metadata": {},
     "output_type": "execute_result",
     "execution_count": 21
    },
    {
     "data": {
      "text/plain": "<Figure size 432x288 with 1 Axes>",
      "image/png": "[encoded data removed]"
     },
     "metadata": {
      "needs_background": "light"
     },
     "output_type": "display_data"
    }
   ],
   "source": [
    "df['age'].loc[df['seen_any_film'] == 'Yes'].hist()"
   ],
   "metadata": {
    "collapsed": false,
    "pycharm": {
     "name": "#%%\n",
     "is_executing": false
    }
   }
  },
  {
   "cell_type": "code",
   "execution_count": 27,
   "outputs": [
    {
     "data": {
      "text/plain": "<matplotlib.axes._subplots.AxesSubplot at 0x7fd61daf5860>"
     },
     "metadata": {},
     "output_type": "execute_result",
     "execution_count": 27
    },
    {
     "data": {
      "text/plain": "<Figure size 432x288 with 1 Axes>",
      "image/png": "[encoded data removed]"
     },
     "metadata": {
      "needs_background": "light"
     },
     "output_type": "display_data"
    }
   ],
   "source": [
    "df['age'].loc[(df['seen_ep1'] == 'No') & (df['seen_ep2'] == 'No') & (df['seen_ep3'] == 'No') & ((df['seen_ep4'] == 'Yes') | (df['seen_ep5'] == 'Yes') | (df['seen_ep6'] == 'Yes'))].hist()"
   ],
   "metadata": {
    "collapsed": false,
    "pycharm": {
     "name": "#%%\n",
     "is_executing": false
    }
   }
  },
  {
   "cell_type": "markdown",
   "source": [
    "The main Star-Wars fans are between 45 and 60 years old and have only seen Episodes IV to VI"
   ],
   "metadata": {
    "collapsed": false,
    "pycharm": {
     "name": "#%% md\n"
    }
   }
  },
  {
   "cell_type": "markdown",
   "source": [
    "### c) How many of those who have seen at least one of the six films in the Star Wars franchise are unfamiliar (“Unfamiliar (N/A)”) with at least one character? Give the absolute number and the percentage."
   ],
   "metadata": {
    "collapsed": false,
    "pycharm": {
     "name": "#%% md\n",
     "is_executing": false
    }
   }
  },
  {
   "cell_type": "code",
   "execution_count": 35,
   "outputs": [
    {
     "name": "stdout",
     "text": [
      "Absoute: 269\n",
      "Percentage: 22.681281618887013\n"
     ],
     "output_type": "stream"
    }
   ],
   "source": [
    "unf = df.loc[(df['seen_any_film'] == 'Yes') &\n",
    "       (df['like_char1'] == 'Unfamiliar (N/A)') |\n",
    "       (df['like_char2'] == 'Unfamiliar (N/A)') |\n",
    "       (df['like_char3'] == 'Unfamiliar (N/A)') |\n",
    "       (df['like_char4'] == 'Unfamiliar (N/A)') |\n",
    "       (df['like_char5'] == 'Unfamiliar (N/A)') |\n",
    "       (df['like_char6'] == 'Unfamiliar (N/A)') |\n",
    "       (df['like_char7'] == 'Unfamiliar (N/A)') |\n",
    "       (df['like_char8'] == 'Unfamiliar (N/A)') |\n",
    "       (df['like_char9'] == 'Unfamiliar (N/A)') |\n",
    "       (df['like_char10'] == 'Unfamiliar (N/A)') |\n",
    "       (df['like_char11'] == 'Unfamiliar (N/A)') |\n",
    "       (df['like_char12'] == 'Unfamiliar (N/A)') |\n",
    "       (df['like_char13'] == 'Unfamiliar (N/A)') |\n",
    "       (df['like_char14'] == 'Unfamiliar (N/A)')\n",
    "].count().max()\n",
    "print(f'Absoute: {unf}')\n",
    "print(f'Percentage: {unf / all * 100}')"
   ],
   "metadata": {
    "collapsed": false,
    "pycharm": {
     "name": "#%%\n",
     "is_executing": false
    }
   }
  },
  {
   "cell_type": "markdown",
   "source": [
    "### d) How many respondents have seen all six films? Determine which film is the least favorite according to the respondents who watched all six films. To this end, calculate the column-wise mean and the median for the required columns (and rows)."
   ],
   "metadata": {
    "collapsed": false,
    "pycharm": {
     "name": "#%% md\n",
     "is_executing": false
    }
   }
  },
  {
   "cell_type": "code",
   "execution_count": 57,
   "outputs": [
    {
     "name": "stdout",
     "text": [
      "All Six: 471\n"
     ],
     "output_type": "stream"
    }
   ],
   "source": [
    "all_six = df.loc[\n",
    "    (df['seen_ep1'] == 'Yes') &\n",
    "    (df['seen_ep2'] == 'Yes') &\n",
    "    (df['seen_ep3'] == 'Yes') &\n",
    "    (df['seen_ep4'] == 'Yes') &\n",
    "    (df['seen_ep5'] == 'Yes') &\n",
    "    (df['seen_ep6'] == 'Yes')\n",
    "]\n",
    "\n",
    "print(f'All Six: {all_six.index.nunique()}')"
   ],
   "metadata": {
    "collapsed": false,
    "pycharm": {
     "name": "#%%\n",
     "is_executing": false
    }
   }
  },
  {
   "cell_type": "code",
   "execution_count": 58,
   "outputs": [
    {
     "name": "stdout",
     "text": [
      "Least Favorite: \n",
      "rank_ep5    1121.0\n",
      "dtype: float64\n"
     ],
     "output_type": "stream"
    }
   ],
   "source": [
    "print(f'Least Favorite: \\n{all_six[[\"rank_ep1\", \"rank_ep2\", \"rank_ep3\", \"rank_ep4\", \"rank_ep5\", \"rank_ep6\"]].sum().nsmallest(1)}')"
   ],
   "metadata": {
    "collapsed": false,
    "pycharm": {
     "name": "#%%\n",
     "is_executing": false
    }
   }
  },
  {
   "cell_type": "code",
   "execution_count": 59,
   "outputs": [
    {
     "name": "stdout",
     "text": [
      "Mean: \n",
      "rank_ep1    4.237792\n",
      "rank_ep2    4.326964\n",
      "rank_ep3    4.253191\n",
      "rank_ep4    2.866242\n",
      "rank_ep5    2.380042\n",
      "rank_ep6    2.932059\n",
      "dtype: float64\n"
     ],
     "output_type": "stream"
    }
   ],
   "source": [
    "print(f'Mean: \\n{all_six[[\"rank_ep1\", \"rank_ep2\", \"rank_ep3\", \"rank_ep4\", \"rank_ep5\", \"rank_ep6\"]].mean()}')"
   ],
   "metadata": {
    "collapsed": false,
    "pycharm": {
     "name": "#%%\n",
     "is_executing": false
    }
   }
  },
  {
   "cell_type": "code",
   "execution_count": 60,
   "outputs": [
    {
     "name": "stdout",
     "text": [
      "Median: \n",
      "rank_ep1    4.0\n",
      "rank_ep2    5.0\n",
      "rank_ep3    4.0\n",
      "rank_ep4    3.0\n",
      "rank_ep5    2.0\n",
      "rank_ep6    3.0\n",
      "dtype: float64\n"
     ],
     "output_type": "stream"
    }
   ],
   "source": [
    "print(f'Median: \\n{all_six[[\"rank_ep1\", \"rank_ep2\", \"rank_ep3\", \"rank_ep4\", \"rank_ep5\", \"rank_ep6\"]].median()}')"
   ],
   "metadata": {
    "collapsed": false,
    "pycharm": {
     "name": "#%%\n",
     "is_executing": false
    }
   }
  },
  {
   "cell_type": "markdown",
   "source": [
    "### e) Which character is liked least by men (average score)? Which character is liked most by women (average score)?"
   ],
   "metadata": {
    "collapsed": false,
    "pycharm": {
     "name": "#%% md\n"
    }
   }
  },
  {
   "cell_type": "code",
   "execution_count": 85,
   "outputs": [
    {
     "data": {
      "text/plain": "RespondentID\n3292879998   NaN\n3292879538   NaN\n3292765271   NaN\n3292763116   NaN\n3292731220   NaN\n              ..\n3288429390   NaN\n3288423088   NaN\n3288415166   NaN\n3288408698   NaN\n3288396374   NaN\nLength: 497, dtype: float64"
     },
     "metadata": {},
     "output_type": "execute_result",
     "execution_count": 85
    }
   ],
   "source": [
    "chars = df[[\n",
    "    'like_char1',\n",
    "    'like_char2',\n",
    "    'like_char3',\n",
    "    'like_char4',\n",
    "    'like_char5',\n",
    "    'like_char6',\n",
    "    'like_char7',\n",
    "    'like_char8',\n",
    "    'like_char9',\n",
    "    'like_char10',\n",
    "    'like_char11',\n",
    "    'like_char12',\n",
    "    'like_char13',\n",
    "    'like_char14'\n",
    "]]\n",
    "\n",
    "chars.loc[df['gender'] == 'Male'].mean(axis='columns')"
   ],
   "metadata": {
    "collapsed": false,
    "pycharm": {
     "name": "#%%\n",
     "is_executing": false
    }
   }
  },
  {
   "cell_type": "code",
   "execution_count": null,
   "outputs": [],
   "source": [
    "\n"
   ],
   "metadata": {
    "collapsed": false,
    "pycharm": {
     "name": "#%%\n"
    }
   }
  }
 ],
 "metadata": {
  "kernelspec": {
   "display_name": "Python 3",
   "language": "python",
   "name": "python3"
  },
  "language_info": {
   "codemirror_mode": {
    "name": "ipython",
    "version": 2
   },
   "file_extension": ".py",
   "mimetype": "text/x-python",
   "name": "python",
   "nbconvert_exporter": "python",
   "pygments_lexer": "ipython2",
   "version": "2.7.6"
  },
  "pycharm": {
   "stem_cell": {
    "cell_type": "raw",
    "source": [],
    "metadata": {
     "collapsed": false
    }
   }
  }
 },
 "nbformat": 4,
 "nbformat_minor": 0
}